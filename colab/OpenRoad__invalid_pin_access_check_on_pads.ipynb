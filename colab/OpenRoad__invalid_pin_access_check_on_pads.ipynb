{
  "cells": [
    {
      "cell_type": "markdown",
      "metadata": {
        "id": "view-in-github",
        "colab_type": "text"
      },
      "source": [
        "<a href=\"https://colab.research.google.com/github/chaufe/testcases/blob/main/colab/OpenRoad__invalid_pin_access_check_on_pads.ipynb\" target=\"_parent\"><img src=\"https://colab.research.google.com/assets/colab-badge.svg\" alt=\"Open In Colab\"/></a>"
      ]
    },
    {
      "cell_type": "markdown",
      "metadata": {
        "id": "mg0gmmTELTUR"
      },
      "source": [
        "### **Testcase to show OpenRoad to error-out on pin acces check on pad opening**"
      ]
    },
    {
      "cell_type": "markdown",
      "metadata": {
        "id": "bDybsTKu_zRr"
      },
      "source": [
        "### Environment and Software Setup\n",
        "- setup environment\n",
        "- install conda-eda, GF180MCU PDK and EDA software\n",
        "- install and patch helper software"
      ]
    },
    {
      "cell_type": "code",
      "execution_count": null,
      "metadata": {
        "id": "9cLJ4l_6DYq6"
      },
      "outputs": [],
      "source": [
        "#@title Install a few packages required later-on { display-mode: \"form\" }\n",
        "!dpkg --configure -a\n",
        "!apt install python3-click"
      ]
    },
    {
      "cell_type": "code",
      "execution_count": null,
      "metadata": {
        "id": "oMNMTG3QGWvT"
      },
      "outputs": [],
      "source": [
        "#@title Install Anaconda environment {display-mode: \"form\"}\n",
        "CONDA_PREFIX = '/content/eda'\n",
        "%env CONDA_PREFIX = {CONDA_PREFIX}\n",
        "!echo 'Will install CONDA EDA to {CONDA_PREFIX}'\n",
        "!test -e Install.sh || wget -O Install.sh https://github.com/proppy/conda-eda/releases/download/v0.0-1445-gdbbed53/digital.gf180mcuc-0-Linux-x86_64.sh\n",
        "!test -d {CONDA_PREFIX} || bash Install.sh -b -p {CONDA_PREFIX}"
      ]
    },
    {
      "cell_type": "code",
      "execution_count": null,
      "metadata": {
        "id": "U9j3td-bem7j"
      },
      "outputs": [],
      "source": [
        "#@title Update conda packages {display-mode: \"form\"}\n",
        "!{CONDA_PREFIX}/bin/conda update --yes --all"
      ]
    },
    {
      "cell_type": "code",
      "source": [
        "#@title Install EDA software { display-mode: \"form\" }\n",
        "\n",
        "## required extra packages\n",
        "#!{CONDA_PREFIX}/bin/conda install --yes libboost fmt==8.1.1 spdlog\n",
        "#!{CONDA_PREFIX}/bin/conda install --yes litex-hub::tcllib\n",
        "\n",
        "# use hard-coded packages as version resolution does not work as expected\n",
        "#for pkg in [\n",
        "#    'https://anaconda.org/LiteX-Hub/klayout/0.28.9_2_2_g508b52374/download/linux-64/klayout-0.28.9_2_2_g508b52374-20230606_125334_py37.tar.bz2',\n",
        "#    'https://anaconda.org/LiteX-Hub/magic/8.3.404_0_g482d753/download/linux-64/magic-8.3.404_0_g482d753-20230606_125334.tar.bz2',\n",
        "#    'https://anaconda.org/LiteX-Hub/netgen/1.5.254_0_g02d7a1b/download/linux-64/netgen-1.5.254_0_g02d7a1b-20230606_125334.tar.bz2',\n",
        "#    'https://anaconda.org/LiteX-Hub/open_pdks.gf180mcuc/1.0.419_0_g3df14f8/download/noarch/open_pdks.gf180mcuc-1.0.419_0_g3df14f8-20230606_125334.tar.bz2',\n",
        "#    'https://anaconda.org/LiteX-Hub/openlane/2023.04.12_0_g23e367a9/download/noarch/openlane-2023.04.12_0_g23e367a9-20230412_103222.tar.bz2',\n",
        "#    'https://anaconda.org/LiteX-Hub/openroad/2.0_8931_g74ada9e7c/download/linux-64/openroad-2.0_8931_g74ada9e7c-20230606_125334.tar.bz2',\n",
        "#    'https://anaconda.org/LiteX-Hub/yosys/0.30_17_g8b2a00102/download/linux-64/yosys-0.30_17_g8b2a00102-20230606_125334_py37.tar.bz2',\n",
        "#    'https://repo.anaconda.com/pkgs/main/linux-64/ruby-3.1.4-h359c5ee_0.conda',\n",
        "#    'https://repo.anaconda.com/pkgs/main/linux-64/python-3.7.16-h7a1cb2a_0.conda',\n",
        "#    'https://anaconda.org/anaconda/click/8.0.4/download/linux-64/click-8.0.4-py37h06a4308_0.tar.bz2',\n",
        "#]:\n",
        "#  print(\"Installing \" + pkg)\n",
        "#  !{CONDA_PREFIX}/bin/conda install --yes {pkg}\n",
        "\n",
        "# use hard-coded packages as version resolution does not work as expected\n",
        "for pkg in [\n",
        "    'https://anaconda.org/LiteX-Hub/openroad/2.0_8931_g74ada9e7c/download/linux-64/openroad-2.0_8931_g74ada9e7c-20230606_125334.tar.bz2',\n",
        "]:\n",
        "  print(\"Installing \" + pkg)\n",
        "  !{CONDA_PREFIX}/bin/conda install --yes {pkg}"
      ],
      "metadata": {
        "id": "fiYgeYzY1xRo"
      },
      "execution_count": null,
      "outputs": []
    },
    {
      "cell_type": "code",
      "execution_count": null,
      "metadata": {
        "id": "Bi_tQkrpK847"
      },
      "outputs": [],
      "source": [
        "#@title Setup remaining variables { display-mode: 'form'}\n",
        "%env CONDA_PREFIX = {CONDA_PREFIX}\n",
        "import os\n",
        "%env PATH = {CONDA_PREFIX + '/bin:' + os.getenv('PATH')}\n",
        "%env PDK_ROOT = {CONDA_PREFIX + '/share/pdk'}\n",
        "%env PDK = gf180mcuC\n",
        "%env IO_LIB_PATH = {CONDA_PREFIX + '/share/pdk/gf180mcuC/libs.ref/gf180mcu_fd_io'}\n",
        "%env SRAM_LIB_PATH = {CONDA_PREFIX + '/share/pdk/gf180mcuC/libs.ref/gf180mcu_fd_ip_sram'}\n",
        "!echo $PYTHONPATH"
      ]
    },
    {
      "cell_type": "code",
      "source": [
        "#@title Create patch file for GF180MCU IO IP { display-mode: \"form\" }\n",
        "#!wget https://raw.githubusercontent.com/chaufe/testcases/main/patches/gf180mcu_fd_io.lef.patch\n",
        "%%writefile \"gf180mcu_fd_io.lef.patch\"\n",
        "--- eda/share/pdk/gf180mcuC/libs.ref/gf180mcu_fd_io/lef/gf180mcu_fd_io.lef\t2023-02-13 13:43:43.000000000 +0100\n",
        "+++ eda/share/pdk/gf180mcuC/libs.ref/gf180mcu_fd_io/lef/gf180mcu_fd_io.lef\t2023-03-30 10:19:34.792862000 +0200\n",
        "@@ -3,6 +3,20 @@\n",
        "   DIVIDERCHAR \"/\" ;\n",
        "   BUSBITCHARS \"[]\" ;\n",
        "+\n",
        "+SITE GF_IO_Site\n",
        "+  SYMMETRY X Y ;\n",
        "+  CLASS PAD ;\n",
        "+  SIZE 1 BY 350 ;\n",
        "+END GF_IO_Site\n",
        "+\n",
        "+SITE GF_COR_Site\n",
        "+  SYMMETRY X Y ;\n",
        "+  CLASS PAD ;\n",
        "+  SIZE 355 BY 355 ;\n",
        "+END GF_COR_Site\n",
        "+\n",
        "+\n",
        " MACRO gf180mcu_fd_io__asig_5p0\n",
        "-  CLASS PAD INOUT ;\n",
        "+  CLASS PAD AREAIO ;\n",
        "   FOREIGN gf180mcu_fd_io__asig_5p0 ;\n",
        "   ORIGIN 0.000 0.000 ;\n",
        "@@ -815,5 +829,5 @@\n",
        "\n",
        " MACRO gf180mcu_fd_io__bi_24t\n",
        "-  CLASS PAD INOUT ;\n",
        "+  CLASS PAD AREAIO ;\n",
        "   FOREIGN gf180mcu_fd_io__bi_24t ;\n",
        "   ORIGIN 0.000 0.000 ;\n",
        "@@ -1669,5 +1683,5 @@\n",
        "\n",
        " MACRO gf180mcu_fd_io__bi_t\n",
        "-  CLASS PAD INOUT ;\n",
        "+  CLASS PAD AREAIO ;\n",
        "   FOREIGN gf180mcu_fd_io__bi_t ;\n",
        "   ORIGIN 0.000 0.000 ;\n",
        "@@ -3807,5 +3821,5 @@\n",
        "\n",
        " MACRO gf180mcu_fd_io__dvdd\n",
        "-  CLASS PAD POWER ;\n",
        "+  CLASS PAD AREAIO ;\n",
        "   FOREIGN gf180mcu_fd_io__dvdd ;\n",
        "   ORIGIN 0.000 0.000 ;\n",
        "@@ -4600,5 +4614,5 @@\n",
        "\n",
        " MACRO gf180mcu_fd_io__dvss\n",
        "-  CLASS PAD POWER ;\n",
        "+  CLASS PAD AREAIO ;\n",
        "   FOREIGN gf180mcu_fd_io__dvss ;\n",
        "   ORIGIN 0.000 0.000 ;\n",
        "@@ -7609,5 +7623,5 @@\n",
        "\n",
        " MACRO gf180mcu_fd_io__in_c\n",
        "-  CLASS PAD INPUT ;\n",
        "+  CLASS PAD AREAIO ;\n",
        "   FOREIGN gf180mcu_fd_io__in_c ;\n",
        "   ORIGIN 0.000 0.000 ;\n",
        "@@ -8416,5 +8430,5 @@\n",
        "\n",
        " MACRO gf180mcu_fd_io__in_s\n",
        "-  CLASS PAD INPUT ;\n",
        "+  CLASS PAD AREAIO ;\n",
        "   FOREIGN gf180mcu_fd_io__in_s ;\n",
        "   ORIGIN 0.000 0.000 ;\n"
      ],
      "metadata": {
        "id": "-uviimUD5MHb"
      },
      "execution_count": null,
      "outputs": []
    },
    {
      "cell_type": "code",
      "source": [
        "#@title Patch GF180MCU IP { display-mode: \"form\" }\n",
        "!patch -p0 < gf180mcu_fd_io.lef.patch"
      ],
      "metadata": {
        "id": "vzAbSUtQck-x"
      },
      "execution_count": null,
      "outputs": []
    },
    {
      "cell_type": "markdown",
      "source": [
        "### Create Testcase"
      ],
      "metadata": {
        "id": "DObFBwGPYcUw"
      }
    },
    {
      "cell_type": "code",
      "source": [
        "#@title Write testcase RTL { display-mode: \"form\" }\n",
        "%%writefile \"testcase.v\"\n",
        "module testcase (input clk,\n",
        "                 input din,\n",
        "                 output wire dout);\n",
        "\n",
        "   wire clk_int;\n",
        "   wire din_int;\n",
        "   reg  dout_int;\n",
        "\n",
        "\n",
        "   // pads\n",
        "   (* keep *) gf180mcu_fd_io__bi_t pad_dout(\n",
        "                                            .PU(1'b0), .PD(1'b0),\n",
        "                                            .OE(1'b1), .IE(1'b0),\n",
        "                                            .PDRV0(1'b0), .PDRV1(1'b0),\n",
        "                                            .CS(1'b0), .SL(1'b0),\n",
        "                                            .PAD(dout),\n",
        "                                            .A(dout_int),\n",
        "                                            .Y()\n",
        "                                            );\n",
        "\n",
        "   (* keep *) gf180mcu_fd_io__in_s pad_clk(\n",
        "                                           .PU(1'b0), .PD(1'b0),\n",
        "                                           .PAD(clk),\n",
        "                                           .Y(clk_int)\n",
        "                                           );\n",
        "\n",
        "   (* keep *) gf180mcu_fd_io__in_s pad_din(\n",
        "                                           .PU(1'b0), .PD(1'b0),\n",
        "                                           .PAD(din),\n",
        "                                           .Y(din_int)\n",
        "                                           );\n",
        "\n",
        "    always @(posedge clk_int)\n",
        "      dout_int <= din_int;\n",
        "\n",
        "endmodule\n"
      ],
      "metadata": {
        "id": "iT_0ekwPQNG4",
        "outputId": "8a170930-122d-4b6d-ed88-d421212cd189",
        "colab": {
          "base_uri": "https://localhost:8080/"
        }
      },
      "execution_count": 8,
      "outputs": [
        {
          "output_type": "stream",
          "name": "stdout",
          "text": [
            "Writing testcase.v\n"
          ]
        }
      ]
    },
    {
      "cell_type": "code",
      "source": [
        "#@title Write config.tcl to control OpenLANE { display-mode: \"form\" }\n",
        "%%writefile \"config.tcl\"\n",
        "\n",
        "set ::env(DESIGN_NAME) \"testcase\"\n",
        "\n",
        "set ::env(VERILOG_FILES) [list \"testcase.v\" ]\n",
        "\n",
        "set ::env(EXTRA_LIBS) [list \\\n",
        "  $::env(IO_LIB_PATH)/liberty/gf180mcu_fd_io__tt_025C_5v00.lib \\\n",
        "  $::env(IO_LIB_PATH)/liberty/gf180mcu_fd_io__ff_n40C_5v50.lib \\\n",
        "  $::env(IO_LIB_PATH)/liberty/gf180mcu_fd_io__ff_125C_5v50.lib \\\n",
        "  $::env(IO_LIB_PATH)/liberty/gf180mcu_fd_io__ss_125C_4v50.lib \\\n",
        "]\n",
        "\n",
        "set ::env(EXTRA_LEFS) [list \\\n",
        "]\n",
        "\n",
        "#set ::env(BASE_SDC_FILE) \"testcase.sdc\"\n",
        "\n",
        "set ::env(EXTRA_GDS_FILES) [list \\\n",
        "  $::env(IO_LIB_PATH)/gds/gf180mcu_fd_io.gds \\\n",
        "]\n",
        "\n",
        "set ::env(DESIGN_IS_CORE) 1\n",
        "set ::env(FP_PDN_CORE_RING) 1\n",
        "\n",
        "set ::env(GRT_ALLOW_CONGESTION) 1\n",
        "set ::env(DRT_OPT_ITERS) 10\n",
        "\n",
        "set ::env(DIODE_INSERTION_STRATEGY) 0\n",
        "\n",
        "set ::env(USE_GPIO_PADS) 1\n",
        "set ::env(GPIO_PADS_LEF) $::env(IO_LIB_PATH)/lef/gf180mcu_fd_io.lef\n",
        "unset ::env(GPIO_PADS_VERILOG)\n",
        "set ::env(FP_IO_MODE) 1\n",
        "\n",
        "set ::env(FP_PDN_UPPER_LAYER) Metal5\n",
        "set ::env(FP_PDN_LOWER_LAYER) Metal4\n",
        "set ::env(FP_PDN_RAILS_LAYER) Metal1\n",
        "set ::env(FP_PDN_CORE_RING_VWIDTH) 5.0\n",
        "set ::env(FP_PDN_CORE_RING_HWIDTH) 5.0\n",
        "set ::env(FP_PDN_CORE_RING_VSPACING) 1.0\n",
        "set ::env(FP_PDN_CORE_RING_HSPACING) 1.0\n",
        "\n",
        "set ::env(SYNTH_NO_FLAT) 0\n",
        "set ::env(SYNTH_SHARE_RESOURCES) 1\n",
        "\n",
        "set ::env(CLOCK_TREE_SYNTH) 1\n",
        "set ::env(CLOCK_PORT) \"clk\"\n",
        "set ::env(CLOCK_PERIOD) 100\n",
        "\n",
        "set ::env(FP_SIZING) absolute\n",
        "set ::env(DIE_AREA) \"0 0 1460 1460\"\n",
        "set ::env(CORE_AREA) \"370 370 1090 1090\"\n",
        "\n",
        "set ::env(PL_TARGET_DENSITY) 0.65\n",
        "\n",
        "# MAGIC GDS-out controls\n",
        "## ... try GDS with hierarchy\n",
        "set ::env(MAGIC_DISABLE_HIER_GDS) 0\n",
        "set ::env(MAGIC_GENERATE_LEF) 0\n",
        "set ::env(MAGIC_GENERATE_MAGLEF) 0"
      ],
      "metadata": {
        "id": "Blqb1dPLR-CF",
        "outputId": "30dc7240-7787-4c39-ba87-c3a1c8b8cb41",
        "colab": {
          "base_uri": "https://localhost:8080/"
        }
      },
      "execution_count": 9,
      "outputs": [
        {
          "output_type": "stream",
          "name": "stdout",
          "text": [
            "Writing config.tcl\n"
          ]
        }
      ]
    },
    {
      "cell_type": "code",
      "source": [
        "#@title Use updated ioplace script to create pad ring { display-mode: \"form\" }\n",
        "%%writefile \"eda/share/openlane/scripts/openroad/ioplacer.tcl\"\n",
        "# Copyright 2020-2022 Efabless Corporation\n",
        "#\n",
        "# Licensed under the Apache License, Version 2.0 (the \"License\");\n",
        "# you may not use this file except in compliance with the License.\n",
        "# You may obtain a copy of the License at\n",
        "#\n",
        "#      http://www.apache.org/licenses/LICENSE-2.0\n",
        "#\n",
        "# Unless required by applicable law or agreed to in writing, software\n",
        "# distributed under the License is distributed on an \"AS IS\" BASIS,\n",
        "# WITHOUT WARRANTIES OR CONDITIONS OF ANY KIND, either express or implied.\n",
        "# See the License for the specific language governing permissions and\n",
        "# limitations under the License.\n",
        "source $::env(SCRIPTS_DIR)/openroad/common/io.tcl\n",
        "read\n",
        "\n",
        "if { [info exists ::env(CONTEXTUAL_IO_FLAG)] } {\n",
        "\tread_lef $::env(placement_tmpfiles)/top_level.lef\n",
        "}\n",
        "\n",
        "if {$::env(FP_IO_HLENGTH) != \"\" && $::env(FP_IO_HLENGTH) != \"\"} {\n",
        "\tset_pin_length -hor_length $::env(FP_IO_HLENGTH) \\\n",
        "\t\t-ver_length $::env(FP_IO_VLENGTH)\n",
        "}\n",
        "\n",
        "if {$::env(FP_IO_HEXTEND) != \"0\" && $::env(FP_IO_VEXTEND) != \"0\"} {\n",
        "\tset_pin_length_extension -hor_extension $::env(FP_IO_HEXTEND) \\\n",
        "\t\t-ver_extension $::env(FP_IO_VEXTEND)\n",
        "}\n",
        "\n",
        "if {$::env(FP_IO_VTHICKNESS_MULT) != \"\" && $::env(FP_IO_HTHICKNESS_MULT) != \"\"} {\n",
        "\tset_pin_thick_multiplier -hor_multiplier $::env(FP_IO_HTHICKNESS_MULT) \\\n",
        "\t\t-ver_multiplier $::env(FP_IO_VTHICKNESS_MULT)\n",
        "}\n",
        "\n",
        "set arg_list [list]\n",
        "if { $::env(FP_IO_MODE) == 1 } {\n",
        "\tlappend arg_list -random\n",
        "}\n",
        "\n",
        "if { $::env(FP_IO_MIN_DISTANCE) != \"\" } {\n",
        "\tlappend arg_list -min_distance $::env(FP_IO_MIN_DISTANCE)\n",
        "}\n",
        "\n",
        "set HMETAL $::env(FP_IO_HLAYER)\n",
        "set VMETAL $::env(FP_IO_VLAYER)\n",
        "\n",
        "place_pins {*}$arg_list \\\n",
        "\t-random_seed 42 \\\n",
        "\t-hor_layers $HMETAL \\\n",
        "\t-ver_layers $VMETAL\n",
        "\n",
        "# create io-ring\n",
        "make_io_sites -horizontal_site GF_IO_Site -vertical_site GF_IO_Site -corner_site GF_COR_Site -offset 0\n",
        "place_pad -master gf180mcu_fd_io__dvdd   -row IO_NORTH -location  400.0 pad_dvdd1\n",
        "place_pad -master gf180mcu_fd_io__in_s   -row IO_NORTH -location  700.0 pad_clk\n",
        "place_pad -master gf180mcu_fd_io__dvss   -row IO_NORTH -location 1000.0 pad_dvss1\n",
        "\n",
        "place_pad -master gf180mcu_fd_io__dvdd   -row IO_EAST  -location  400.0 pad_dvdd2\n",
        "place_pad -master gf180mcu_fd_io__in_s   -row IO_EAST  -location  700.0 pad_din\n",
        "place_pad -master gf180mcu_fd_io__dvss   -row IO_EAST  -location 1000.0 pad_dvss2\n",
        "\n",
        "place_pad -master gf180mcu_fd_io__dvdd   -row IO_WEST  -location  400.0 pad_dvdd3\n",
        "place_pad -master gf180mcu_fd_io__bi_24t -row IO_WEST  -location  700.0 pad_dout\n",
        "place_pad -master gf180mcu_fd_io__dvss   -row IO_WEST  -location 1000.0 pad_dvss3\n",
        "\n",
        "place_pad -master gf180mcu_fd_io__dvdd   -row IO_SOUTH -location  400.0 pad_dvdd4\n",
        "place_pad -master gf180mcu_fd_io__dvss   -row IO_SOUTH -location 1000.0 pad_dvss4\n",
        "\n",
        "place_corners gf180mcu_fd_io__cor\n",
        "foreach io_row { IO_EAST IO_WEST IO_SOUTH IO_NORTH } {\n",
        "    place_io_fill -row $io_row gf180mcu_fd_io__fill10 gf180mcu_fd_io__fill5 gf180mcu_fd_io__fill1\n",
        "}\n",
        "\n",
        "connect_by_abutment\n",
        "\n",
        "# work-around for pin-access error message\n",
        "if {[info exists ::env(WORKAROUND)] && ($env(WORKAROUND) eq \"enabled\") } {\n",
        "\n",
        "  # get db/chip/block\n",
        "  set db [ord::get_db]\n",
        "  set chip [$db getChip]\n",
        "  set block [$chip getBlock]\n",
        "  set dbu_m [$block getDbUnitsPerMicron]\n",
        "\n",
        "  # mark all nets connected to pins (terminals) as special-net so OpenROAD will not try to route it\n",
        "  foreach bterm [$block getBTerms] {\n",
        "    if {$bterm eq \"NULL\"} {\n",
        "        error \"Could not get terminals of block\"\n",
        "    } else {\n",
        "      set net [$bterm getNet]\n",
        "      if {$net eq \"NULL\"} {\n",
        "        error \"Block terminal [$bterm getName] returned NULL net\"\n",
        "      } else {\n",
        "        puts \"Setting net [$net getName] (connected to block terminal [$bterm getName]) to special-net\"\n",
        "        $net setSpecial\n",
        "      }\n",
        "    }\n",
        "  }\n",
        "}\n",
        "\n",
        "\n",
        "write\n"
      ],
      "metadata": {
        "id": "u4cTtAqsTjKL",
        "outputId": "61fc9156-1e76-4be2-8680-d410fc6eb2c5",
        "colab": {
          "base_uri": "https://localhost:8080/"
        }
      },
      "execution_count": 10,
      "outputs": [
        {
          "output_type": "stream",
          "name": "stdout",
          "text": [
            "Overwriting eda/share/openlane/scripts/openroad/ioplacer.tcl\n"
          ]
        }
      ]
    },
    {
      "cell_type": "markdown",
      "source": [
        "### Run Testcase"
      ],
      "metadata": {
        "id": "1H3q18x_Ykhp"
      }
    },
    {
      "cell_type": "code",
      "source": [
        "#@title Enable or disable work-around { display-mode: \"form\" }\n",
        "import ipywidgets as widgets\n",
        "import IPython\n",
        "\n",
        "workaround = widgets.RadioButtons(\n",
        "    options=['enabled', 'disabled'],\n",
        "    value='disabled',\n",
        "    disabled=False\n",
        ")\n",
        "print('Enable or disable work-around?:')\n",
        "IPython.display.display(workaround)"
      ],
      "metadata": {
        "colab": {
          "base_uri": "https://localhost:8080/",
          "height": 78,
          "referenced_widgets": [
            "5e4e794d339d4db093048b6a3317ede2",
            "cf9132a3202547f3989bd8342e28d13a",
            "22070c4dbdca4853b6c86cecae0c4f50"
          ]
        },
        "id": "00n2AIH668X3",
        "outputId": "c6cf7e93-027e-468b-8616-19b8a7b77d18"
      },
      "execution_count": 11,
      "outputs": [
        {
          "output_type": "stream",
          "name": "stdout",
          "text": [
            "Enable or disable work-around?:\n"
          ]
        },
        {
          "output_type": "display_data",
          "data": {
            "text/plain": [
              "RadioButtons(index=1, options=('enabled', 'disabled'), value='disabled')"
            ],
            "application/vnd.jupyter.widget-view+json": {
              "version_major": 2,
              "version_minor": 0,
              "model_id": "5e4e794d339d4db093048b6a3317ede2"
            }
          },
          "metadata": {}
        }
      ]
    },
    {
      "cell_type": "code",
      "source": [
        "#@title Run OpenLANE { display-mode: \"form\" }\n",
        "%env WORKAROUND = {workaround.value}\n",
        "%env PYTHONPATH = /usr/lib/python310.zip;/usr/lib/python3.10:/usr/lib/python3.10/lib-dynload:/usr/local/lib/python3.10/dist-packages:/usr/lib/python3/dist-packages:/usr/local/lib/python3.10/dist-packages/IPython/extensions\n",
        "!flow.tcl -design . -to routing"
      ],
      "metadata": {
        "id": "Z21_ONfXS1v4"
      },
      "execution_count": null,
      "outputs": []
    },
    {
      "cell_type": "code",
      "source": [
        "#@title Package issue { display-mode: \"form\" }\n",
        "import pathlib\n",
        "STEP='25'\n",
        "odb = sorted(pathlib.Path('/content/runs/').glob(f'*/tmp/*/{STEP}-*.odb'))[-1].resolve()\n",
        "\n",
        "%env PYTHONPATH = /content/eda/lib/python3.7:/content/eda/lib/python37.zip:/content/eda/lib/python3.7/lib-dynload:/content/eda/lib/python3.7/site-packages\n",
        "!python3.7 /content/eda/share/openlane/scripts/or_issue.py\\\n",
        "    --tool openroad\\\n",
        "    --script /content/eda/share/openlane/scripts/openroad/droute.tcl {odb}\n",
        "\n",
        "!tar czvf _build.tgz _build\n"
      ],
      "metadata": {
        "id": "kyC3x4cEHram"
      },
      "execution_count": null,
      "outputs": []
    }
  ],
  "metadata": {
    "colab": {
      "provenance": [],
      "include_colab_link": true
    },
    "kernelspec": {
      "display_name": "Python 3",
      "name": "python3"
    },
    "language_info": {
      "name": "python"
    },
    "widgets": {
      "application/vnd.jupyter.widget-state+json": {
        "5e4e794d339d4db093048b6a3317ede2": {
          "model_module": "@jupyter-widgets/controls",
          "model_name": "RadioButtonsModel",
          "model_module_version": "1.5.0",
          "state": {
            "_dom_classes": [],
            "_model_module": "@jupyter-widgets/controls",
            "_model_module_version": "1.5.0",
            "_model_name": "RadioButtonsModel",
            "_options_labels": [
              "enabled",
              "disabled"
            ],
            "_view_count": null,
            "_view_module": "@jupyter-widgets/controls",
            "_view_module_version": "1.5.0",
            "_view_name": "RadioButtonsView",
            "description": "",
            "description_tooltip": null,
            "disabled": false,
            "index": 1,
            "layout": "IPY_MODEL_cf9132a3202547f3989bd8342e28d13a",
            "style": "IPY_MODEL_22070c4dbdca4853b6c86cecae0c4f50"
          }
        },
        "cf9132a3202547f3989bd8342e28d13a": {
          "model_module": "@jupyter-widgets/base",
          "model_name": "LayoutModel",
          "model_module_version": "1.2.0",
          "state": {
            "_model_module": "@jupyter-widgets/base",
            "_model_module_version": "1.2.0",
            "_model_name": "LayoutModel",
            "_view_count": null,
            "_view_module": "@jupyter-widgets/base",
            "_view_module_version": "1.2.0",
            "_view_name": "LayoutView",
            "align_content": null,
            "align_items": null,
            "align_self": null,
            "border": null,
            "bottom": null,
            "display": null,
            "flex": null,
            "flex_flow": null,
            "grid_area": null,
            "grid_auto_columns": null,
            "grid_auto_flow": null,
            "grid_auto_rows": null,
            "grid_column": null,
            "grid_gap": null,
            "grid_row": null,
            "grid_template_areas": null,
            "grid_template_columns": null,
            "grid_template_rows": null,
            "height": null,
            "justify_content": null,
            "justify_items": null,
            "left": null,
            "margin": null,
            "max_height": null,
            "max_width": null,
            "min_height": null,
            "min_width": null,
            "object_fit": null,
            "object_position": null,
            "order": null,
            "overflow": null,
            "overflow_x": null,
            "overflow_y": null,
            "padding": null,
            "right": null,
            "top": null,
            "visibility": null,
            "width": null
          }
        },
        "22070c4dbdca4853b6c86cecae0c4f50": {
          "model_module": "@jupyter-widgets/controls",
          "model_name": "DescriptionStyleModel",
          "model_module_version": "1.5.0",
          "state": {
            "_model_module": "@jupyter-widgets/controls",
            "_model_module_version": "1.5.0",
            "_model_name": "DescriptionStyleModel",
            "_view_count": null,
            "_view_module": "@jupyter-widgets/base",
            "_view_module_version": "1.2.0",
            "_view_name": "StyleView",
            "description_width": ""
          }
        }
      }
    }
  },
  "nbformat": 4,
  "nbformat_minor": 0
}