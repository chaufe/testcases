{
  "cells": [
    {
      "cell_type": "markdown",
      "metadata": {
        "id": "view-in-github",
        "colab_type": "text"
      },
      "source": [
        "<a href=\"https://colab.research.google.com/github/chaufe/testcases/blob/main/colab/OpenRoad__invalid_pin_access_check_on_pads.ipynb\" target=\"_parent\"><img src=\"https://colab.research.google.com/assets/colab-badge.svg\" alt=\"Open In Colab\"/></a>"
      ]
    },
    {
      "cell_type": "markdown",
      "metadata": {
        "id": "mg0gmmTELTUR"
      },
      "source": [
        "### **Testcase to show OpenRoad to error-out on pin acces check on pad opening**"
      ]
    },
    {
      "cell_type": "markdown",
      "metadata": {
        "id": "bDybsTKu_zRr"
      },
      "source": [
        "### Environment and Software Setup\n",
        "- setup environment\n",
        "- install conda-eda, GF180MCU PDK and EDA software\n",
        "- install and patch helper software"
      ]
    },
    {
      "cell_type": "code",
      "execution_count": null,
      "metadata": {
        "id": "9cLJ4l_6DYq6"
      },
      "outputs": [],
      "source": [
        "#@title Install a few packages required later-on { display-mode: \"form\" }\n",
        "!dpkg --configure -a\n",
        "!apt install python3-click"
      ]
    },
    {
      "cell_type": "code",
      "execution_count": null,
      "metadata": {
        "id": "oMNMTG3QGWvT"
      },
      "outputs": [],
      "source": [
        "#@title Install Anaconda environment {display-mode: \"form\"}\n",
        "CONDA_PREFIX = '/content/eda'\n",
        "%env CONDA_PREFIX = {CONDA_PREFIX}\n",
        "!echo 'Will install CONDA EDA to {CONDA_PREFIX}'\n",
        "!test -e Install.sh || wget -O Install.sh https://repo.anaconda.com/archive/Anaconda3-2023.03-1-Linux-x86_64.sh\n",
        "!test -d {CONDA_PREFIX} || bash Install.sh -b -p {CONDA_PREFIX}"
      ]
    },
    {
      "cell_type": "code",
      "execution_count": null,
      "metadata": {
        "id": "U9j3td-bem7j"
      },
      "outputs": [],
      "source": [
        "#@title Update conda packages {display-mode: \"form\"}\n",
        "!{CONDA_PREFIX}/bin/conda update --yes --all"
      ]
    },
    {
      "cell_type": "code",
      "source": [
        "#@title Install EDA software { display-mode: \"form\" }\n",
        "\n",
        "# required extra packages\n",
        "!{CONDA_PREFIX}/bin/conda install --yes libboost fmt==8.1.1 spdlog\n",
        "!{CONDA_PREFIX}/bin/conda install --yes litex-hub::tcllib\n",
        "\n",
        "# use hard-coded packages as version resolution does not work as expected\n",
        "for pkg in [\n",
        "    'https://anaconda.org/LiteX-Hub/klayout/0.28.9_2_2_g508b52374/download/linux-64/klayout-0.28.9_2_2_g508b52374-20230606_125334_py37.tar.bz2',\n",
        "    'https://anaconda.org/LiteX-Hub/magic/8.3.404_0_g482d753/download/linux-64/magic-8.3.404_0_g482d753-20230606_125334.tar.bz2',\n",
        "    'https://anaconda.org/LiteX-Hub/netgen/1.5.254_0_g02d7a1b/download/linux-64/netgen-1.5.254_0_g02d7a1b-20230606_125334.tar.bz2',\n",
        "    'https://anaconda.org/LiteX-Hub/open_pdks.gf180mcuc/1.0.419_0_g3df14f8/download/noarch/open_pdks.gf180mcuc-1.0.419_0_g3df14f8-20230606_125334.tar.bz2',\n",
        "    'https://anaconda.org/LiteX-Hub/openlane/2023.04.12_0_g23e367a9/download/noarch/openlane-2023.04.12_0_g23e367a9-20230412_103222.tar.bz2',\n",
        "    'https://anaconda.org/LiteX-Hub/openroad/2.0_8931_g74ada9e7c/download/linux-64/openroad-2.0_8931_g74ada9e7c-20230606_125334.tar.bz2',\n",
        "    'https://anaconda.org/LiteX-Hub/yosys/0.30_17_g8b2a00102/download/linux-64/yosys-0.30_17_g8b2a00102-20230606_125334_py37.tar.bz2',\n",
        "    'https://repo.anaconda.com/pkgs/main/linux-64/ruby-3.1.4-h359c5ee_0.conda',\n",
        "    'https://repo.anaconda.com/pkgs/main/linux-64/python-3.7.16-h7a1cb2a_0.conda',\n",
        "]:\n",
        "  print(\"Installing \" + pkg)\n",
        "  !{CONDA_PREFIX}/bin/conda install --yes {pkg}"
      ],
      "metadata": {
        "id": "fiYgeYzY1xRo"
      },
      "execution_count": null,
      "outputs": []
    },
    {
      "cell_type": "code",
      "execution_count": null,
      "metadata": {
        "id": "Bi_tQkrpK847"
      },
      "outputs": [],
      "source": [
        "#@title Setup remaining variables { display-mode: 'form'}\n",
        "%env CONDA_PREFIX = {CONDA_PREFIX}\n",
        "import os\n",
        "%env PATH = {CONDA_PREFIX + '/bin:' + os.getenv('PATH')}\n",
        "%env PDK_ROOT = {CONDA_PREFIX + '/share/pdk'}\n",
        "%env PDK = gf180mcuC\n",
        "%env IO_LIB_PATH = {CONDA_PREFIX + '/share/pdk/gf180mcuC/libs.ref/gf180mcu_fd_io'}\n",
        "%env SRAM_LIB_PATH = {CONDA_PREFIX + '/share/pdk/gf180mcuC/libs.ref/gf180mcu_fd_ip_sram'}"
      ]
    },
    {
      "cell_type": "code",
      "source": [
        "#@title Fix PYTHONPATH to make OpenROAD happy\n",
        "%env PYTHONPATH = /env/python:/content/eda/lib/python3.10:/content/eda/lib/python310.zip:/content/eda/lib/python3.10/lib-dynload:/content/eda/lib/python3.10/site-packages\n",
        "import sys\n",
        "for path in sys.path:\n",
        "  print(path)"
      ],
      "metadata": {
        "id": "UlPlYxSW0QNG"
      },
      "execution_count": null,
      "outputs": []
    },
    {
      "cell_type": "code",
      "source": [
        "#@title Create patch file for GF180MCU IO IP { display-mode: \"form\" }\n",
        "#!wget https://raw.githubusercontent.com/chaufe/testcases/main/patches/gf180mcu_fd_io.lef.patch\n",
        "%%writefile \"gf180mcu_fd_io.lef.patch\"\n",
        "--- eda/share/pdk/gf180mcuC/libs.ref/gf180mcu_fd_io/lef/gf180mcu_fd_io.lef\t2023-02-13 13:43:43.000000000 +0100\n",
        "+++ eda/share/pdk/gf180mcuC/libs.ref/gf180mcu_fd_io/lef/gf180mcu_fd_io.lef\t2023-03-30 10:19:34.792862000 +0200\n",
        "@@ -3,6 +3,20 @@\n",
        "   DIVIDERCHAR \"/\" ;\n",
        "   BUSBITCHARS \"[]\" ;\n",
        "+\n",
        "+SITE GF_IO_Site\n",
        "+  SYMMETRY X Y ;\n",
        "+  CLASS PAD ;\n",
        "+  SIZE 1 BY 350 ;\n",
        "+END GF_IO_Site\n",
        "+\n",
        "+SITE GF_COR_Site\n",
        "+  SYMMETRY X Y ;\n",
        "+  CLASS PAD ;\n",
        "+  SIZE 355 BY 355 ;\n",
        "+END GF_COR_Site\n",
        "+\n",
        "+\n",
        " MACRO gf180mcu_fd_io__asig_5p0\n",
        "-  CLASS PAD INOUT ;\n",
        "+  CLASS PAD AREAIO ;\n",
        "   FOREIGN gf180mcu_fd_io__asig_5p0 ;\n",
        "   ORIGIN 0.000 0.000 ;\n",
        "@@ -815,5 +829,5 @@\n",
        "\n",
        " MACRO gf180mcu_fd_io__bi_24t\n",
        "-  CLASS PAD INOUT ;\n",
        "+  CLASS PAD AREAIO ;\n",
        "   FOREIGN gf180mcu_fd_io__bi_24t ;\n",
        "   ORIGIN 0.000 0.000 ;\n",
        "@@ -1669,5 +1683,5 @@\n",
        "\n",
        " MACRO gf180mcu_fd_io__bi_t\n",
        "-  CLASS PAD INOUT ;\n",
        "+  CLASS PAD AREAIO ;\n",
        "   FOREIGN gf180mcu_fd_io__bi_t ;\n",
        "   ORIGIN 0.000 0.000 ;\n",
        "@@ -3807,5 +3821,5 @@\n",
        "\n",
        " MACRO gf180mcu_fd_io__dvdd\n",
        "-  CLASS PAD POWER ;\n",
        "+  CLASS PAD AREAIO ;\n",
        "   FOREIGN gf180mcu_fd_io__dvdd ;\n",
        "   ORIGIN 0.000 0.000 ;\n",
        "@@ -4600,5 +4614,5 @@\n",
        "\n",
        " MACRO gf180mcu_fd_io__dvss\n",
        "-  CLASS PAD POWER ;\n",
        "+  CLASS PAD AREAIO ;\n",
        "   FOREIGN gf180mcu_fd_io__dvss ;\n",
        "   ORIGIN 0.000 0.000 ;\n",
        "@@ -7609,5 +7623,5 @@\n",
        "\n",
        " MACRO gf180mcu_fd_io__in_c\n",
        "-  CLASS PAD INPUT ;\n",
        "+  CLASS PAD AREAIO ;\n",
        "   FOREIGN gf180mcu_fd_io__in_c ;\n",
        "   ORIGIN 0.000 0.000 ;\n",
        "@@ -8416,5 +8430,5 @@\n",
        "\n",
        " MACRO gf180mcu_fd_io__in_s\n",
        "-  CLASS PAD INPUT ;\n",
        "+  CLASS PAD AREAIO ;\n",
        "   FOREIGN gf180mcu_fd_io__in_s ;\n",
        "   ORIGIN 0.000 0.000 ;\n"
      ],
      "metadata": {
        "colab": {
          "base_uri": "https://localhost:8080/"
        },
        "id": "-uviimUD5MHb",
        "outputId": "6602b053-2622-4e34-b30b-07c60ffbb39f"
      },
      "execution_count": 8,
      "outputs": [
        {
          "output_type": "stream",
          "name": "stdout",
          "text": [
            "Writing gf180mcu_fd_io.lef.patch\n"
          ]
        }
      ]
    },
    {
      "cell_type": "code",
      "source": [
        "#@title Patch GF180MCU IP { display-mode: \"form\" }\n",
        "!patch -p0 < gf180mcu_fd_io.lef.patch"
      ],
      "metadata": {
        "id": "vzAbSUtQck-x"
      },
      "execution_count": null,
      "outputs": []
    },
    {
      "cell_type": "markdown",
      "source": [
        "### Create Testcase"
      ],
      "metadata": {
        "id": "DObFBwGPYcUw"
      }
    },
    {
      "cell_type": "code",
      "source": [
        "#@title Write testcase RTL { display-mode: \"form\" }\n",
        "%%writefile \"testcase.v\"\n",
        "module testcase (input clk,\n",
        "                 input din,\n",
        "                 output wire dout);\n",
        "\n",
        "   wire clk_int;\n",
        "   wire din_int;\n",
        "   reg  dout_int;\n",
        "\n",
        "\n",
        "   // pads\n",
        "   (* keep *) gf180mcu_fd_io__bi_t pad_dout(\n",
        "                                            .PU(1'b0), .PD(1'b0),\n",
        "                                            .OE(1'b1), .IE(1'b0),\n",
        "                                            .PDRV0(1'b0), .PDRV1(1'b0),\n",
        "                                            .CS(1'b0), .SL(1'b0),\n",
        "                                            .PAD(dout),\n",
        "                                            .A(dout_int),\n",
        "                                            .Y()\n",
        "                                            );\n",
        "\n",
        "   (* keep *) gf180mcu_fd_io__in_s pad_clk(\n",
        "                                           .PU(1'b0), .PD(1'b0),\n",
        "                                           .PAD(clk),\n",
        "                                           .Y(clk_int)\n",
        "                                           );\n",
        "\n",
        "   (* keep *) gf180mcu_fd_io__in_s pad_din(\n",
        "                                           .PU(1'b0), .PD(1'b0),\n",
        "                                           .PAD(din),\n",
        "                                           .Y(din_int)\n",
        "                                           );\n",
        "\n",
        "    always @(posedge clk_int)\n",
        "      dout_int <= din_int;\n",
        "\n",
        "endmodule\n"
      ],
      "metadata": {
        "id": "iT_0ekwPQNG4"
      },
      "execution_count": null,
      "outputs": []
    },
    {
      "cell_type": "code",
      "source": [
        "#@title Write config.tcl to control OpenLANE { display-mode: \"form\" }\n",
        "%%writefile \"config.tcl\"\n",
        "\n",
        "set ::env(DESIGN_NAME) \"testcase\"\n",
        "\n",
        "set ::env(VERILOG_FILES) [list \"testcase.v\" ]\n",
        "\n",
        "set ::env(EXTRA_LIBS) [list \\\n",
        "  $::env(IO_LIB_PATH)/liberty/gf180mcu_fd_io__tt_025C_5v00.lib \\\n",
        "  $::env(IO_LIB_PATH)/liberty/gf180mcu_fd_io__ff_n40C_5v50.lib \\\n",
        "  $::env(IO_LIB_PATH)/liberty/gf180mcu_fd_io__ff_125C_5v50.lib \\\n",
        "  $::env(IO_LIB_PATH)/liberty/gf180mcu_fd_io__ss_125C_4v50.lib \\\n",
        "]\n",
        "\n",
        "set ::env(EXTRA_LEFS) [list \\\n",
        "]\n",
        "\n",
        "#set ::env(BASE_SDC_FILE) \"testcase.sdc\"\n",
        "\n",
        "set ::env(EXTRA_GDS_FILES) [list \\\n",
        "  $::env(IO_LIB_PATH)/gds/gf180mcu_fd_io.gds \\\n",
        "]\n",
        "\n",
        "set ::env(DESIGN_IS_CORE) 1\n",
        "set ::env(FP_PDN_CORE_RING) 1\n",
        "\n",
        "set ::env(GRT_ALLOW_CONGESTION) 1\n",
        "set ::env(DRT_OPT_ITERS) 10\n",
        "\n",
        "set ::env(DIODE_INSERTION_STRATEGY) 0\n",
        "\n",
        "set ::env(USE_GPIO_PADS) 1\n",
        "set ::env(GPIO_PADS_LEF) $::env(IO_LIB_PATH)/lef/gf180mcu_fd_io.lef\n",
        "unset ::env(GPIO_PADS_VERILOG)\n",
        "set ::env(FP_IO_MODE) 1\n",
        "\n",
        "set ::env(FP_PDN_UPPER_LAYER) Metal5\n",
        "set ::env(FP_PDN_LOWER_LAYER) Metal4\n",
        "set ::env(FP_PDN_RAILS_LAYER) Metal1\n",
        "set ::env(FP_PDN_CORE_RING_VWIDTH) 5.0\n",
        "set ::env(FP_PDN_CORE_RING_HWIDTH) 5.0\n",
        "set ::env(FP_PDN_CORE_RING_VSPACING) 1.0\n",
        "set ::env(FP_PDN_CORE_RING_HSPACING) 1.0\n",
        "\n",
        "set ::env(SYNTH_NO_FLAT) 0\n",
        "set ::env(SYNTH_SHARE_RESOURCES) 1\n",
        "\n",
        "set ::env(CLOCK_TREE_SYNTH) 1\n",
        "set ::env(CLOCK_PORT) \"clk\"\n",
        "set ::env(CLOCK_PERIOD) 100\n",
        "\n",
        "set ::env(FP_SIZING) absolute\n",
        "set ::env(DIE_AREA) \"0 0 1460 1460\"\n",
        "set ::env(CORE_AREA) \"370 370 1090 1090\"\n",
        "\n",
        "set ::env(PL_TARGET_DENSITY) 0.65\n",
        "\n",
        "# MAGIC GDS-out controls\n",
        "## ... try GDS with hierarchy\n",
        "set ::env(MAGIC_DISABLE_HIER_GDS) 0\n",
        "set ::env(MAGIC_GENERATE_LEF) 0\n",
        "set ::env(MAGIC_GENERATE_MAGLEF) 0"
      ],
      "metadata": {
        "id": "Blqb1dPLR-CF"
      },
      "execution_count": null,
      "outputs": []
    },
    {
      "cell_type": "code",
      "source": [
        "#@title Use updated ioplace script to create pad ring { display-mode: \"form\" }\n",
        "%%writefile \"eda/share/openlane/scripts/openroad/ioplacer.tcl\"\n",
        "# Copyright 2020-2022 Efabless Corporation\n",
        "#\n",
        "# Licensed under the Apache License, Version 2.0 (the \"License\");\n",
        "# you may not use this file except in compliance with the License.\n",
        "# You may obtain a copy of the License at\n",
        "#\n",
        "#      http://www.apache.org/licenses/LICENSE-2.0\n",
        "#\n",
        "# Unless required by applicable law or agreed to in writing, software\n",
        "# distributed under the License is distributed on an \"AS IS\" BASIS,\n",
        "# WITHOUT WARRANTIES OR CONDITIONS OF ANY KIND, either express or implied.\n",
        "# See the License for the specific language governing permissions and\n",
        "# limitations under the License.\n",
        "source $::env(SCRIPTS_DIR)/openroad/common/io.tcl\n",
        "read\n",
        "\n",
        "if { [info exists ::env(CONTEXTUAL_IO_FLAG)] } {\n",
        "\tread_lef $::env(placement_tmpfiles)/top_level.lef\n",
        "}\n",
        "\n",
        "if {$::env(FP_IO_HLENGTH) != \"\" && $::env(FP_IO_HLENGTH) != \"\"} {\n",
        "\tset_pin_length -hor_length $::env(FP_IO_HLENGTH) \\\n",
        "\t\t-ver_length $::env(FP_IO_VLENGTH)\n",
        "}\n",
        "\n",
        "if {$::env(FP_IO_HEXTEND) != \"0\" && $::env(FP_IO_VEXTEND) != \"0\"} {\n",
        "\tset_pin_length_extension -hor_extension $::env(FP_IO_HEXTEND) \\\n",
        "\t\t-ver_extension $::env(FP_IO_VEXTEND)\n",
        "}\n",
        "\n",
        "if {$::env(FP_IO_VTHICKNESS_MULT) != \"\" && $::env(FP_IO_HTHICKNESS_MULT) != \"\"} {\n",
        "\tset_pin_thick_multiplier -hor_multiplier $::env(FP_IO_HTHICKNESS_MULT) \\\n",
        "\t\t-ver_multiplier $::env(FP_IO_VTHICKNESS_MULT)\n",
        "}\n",
        "\n",
        "set arg_list [list]\n",
        "if { $::env(FP_IO_MODE) == 1 } {\n",
        "\tlappend arg_list -random\n",
        "}\n",
        "\n",
        "if { $::env(FP_IO_MIN_DISTANCE) != \"\" } {\n",
        "\tlappend arg_list -min_distance $::env(FP_IO_MIN_DISTANCE)\n",
        "}\n",
        "\n",
        "set HMETAL $::env(FP_IO_HLAYER)\n",
        "set VMETAL $::env(FP_IO_VLAYER)\n",
        "\n",
        "place_pins {*}$arg_list \\\n",
        "\t-random_seed 42 \\\n",
        "\t-hor_layers $HMETAL \\\n",
        "\t-ver_layers $VMETAL\n",
        "\n",
        "# create io-ring\n",
        "make_io_sites -horizontal_site GF_IO_Site -vertical_site GF_IO_Site -corner_site GF_COR_Site -offset 0\n",
        "place_pad -master gf180mcu_fd_io__dvdd   -row IO_NORTH -location  400.0 pad_dvdd1\n",
        "place_pad -master gf180mcu_fd_io__in_s   -row IO_NORTH -location  700.0 pad_clk\n",
        "place_pad -master gf180mcu_fd_io__dvss   -row IO_NORTH -location 1000.0 pad_dvss1\n",
        "\n",
        "place_pad -master gf180mcu_fd_io__dvdd   -row IO_EAST  -location  400.0 pad_dvdd2\n",
        "place_pad -master gf180mcu_fd_io__in_s   -row IO_EAST  -location  700.0 pad_din\n",
        "place_pad -master gf180mcu_fd_io__dvss   -row IO_EAST  -location 1000.0 pad_dvss2\n",
        "\n",
        "place_pad -master gf180mcu_fd_io__dvdd   -row IO_WEST  -location  400.0 pad_dvdd3\n",
        "place_pad -master gf180mcu_fd_io__bi_24t -row IO_WEST  -location  700.0 pad_dout\n",
        "place_pad -master gf180mcu_fd_io__dvss   -row IO_WEST  -location 1000.0 pad_dvss3\n",
        "\n",
        "place_pad -master gf180mcu_fd_io__dvdd   -row IO_SOUTH -location  400.0 pad_dvdd4\n",
        "place_pad -master gf180mcu_fd_io__dvss   -row IO_SOUTH -location 1000.0 pad_dvss4\n",
        "\n",
        "place_corners gf180mcu_fd_io__cor\n",
        "foreach io_row { IO_EAST IO_WEST IO_SOUTH IO_NORTH } {\n",
        "    place_io_fill -row $io_row gf180mcu_fd_io__fill10 gf180mcu_fd_io__fill5 gf180mcu_fd_io__fill1\n",
        "}\n",
        "\n",
        "connect_by_abutment\n",
        "\n",
        "# work-around for pin-access error message\n",
        "if {[info exists ::env(WORKAROUND)] && ($env(WORKAROUND) eq \"enabled\") } {\n",
        "\n",
        "  # get db/chip/block\n",
        "  set db [ord::get_db]\n",
        "  set chip [$db getChip]\n",
        "  set block [$chip getBlock]\n",
        "  set dbu_m [$block getDbUnitsPerMicron]\n",
        "\n",
        "  # mark all nets connected to pins (terminals) as special-net so OpenROAD will not try to route it\n",
        "  foreach bterm [$block getBTerms] {\n",
        "    if {$bterm eq \"NULL\"} {\n",
        "        error \"Could not get terminals of block\"\n",
        "    } else {\n",
        "      set net [$bterm getNet]\n",
        "      if {$net eq \"NULL\"} {\n",
        "        error \"Block terminal [$bterm getName] returned NULL net\"\n",
        "      } else {\n",
        "        puts \"Setting net [$net getName] (connected to block terminal [$bterm getName]) to special-net\"\n",
        "        $net setSpecial\n",
        "      }\n",
        "    }\n",
        "  }\n",
        "}\n",
        "\n",
        "\n",
        "write\n"
      ],
      "metadata": {
        "id": "u4cTtAqsTjKL"
      },
      "execution_count": null,
      "outputs": []
    },
    {
      "cell_type": "markdown",
      "source": [
        "### Run Testcase"
      ],
      "metadata": {
        "id": "1H3q18x_Ykhp"
      }
    },
    {
      "cell_type": "code",
      "source": [
        "#@title Enable or disable work-around { display-mode: \"form\" }\n",
        "import ipywidgets as widgets\n",
        "import IPython\n",
        "\n",
        "workaround = widgets.RadioButtons(\n",
        "    options=['enabled', 'disabled'],\n",
        "    value='disabled',\n",
        "    disabled=False\n",
        ")\n",
        "print('Enable or disable work-around?:')\n",
        "IPython.display.display(workaround)"
      ],
      "metadata": {
        "colab": {
          "base_uri": "https://localhost:8080/",
          "height": 78,
          "referenced_widgets": [
            "4284057098be4c2ea5a2622db03bdfd9",
            "67475c053f624acfa939d5d5d63f417a",
            "3a55f57aa1bc4504a5b950955d4c9cb5"
          ]
        },
        "id": "00n2AIH668X3",
        "outputId": "48c9c97c-be67-4e37-be9e-ecfafa8fbd56"
      },
      "execution_count": 13,
      "outputs": [
        {
          "output_type": "stream",
          "name": "stdout",
          "text": [
            "Enable or disable work-around?:\n"
          ]
        },
        {
          "output_type": "display_data",
          "data": {
            "text/plain": [
              "RadioButtons(index=1, options=('enabled', 'disabled'), value='disabled')"
            ],
            "application/vnd.jupyter.widget-view+json": {
              "version_major": 2,
              "version_minor": 0,
              "model_id": "4284057098be4c2ea5a2622db03bdfd9"
            }
          },
          "metadata": {}
        }
      ]
    },
    {
      "cell_type": "code",
      "source": [
        "#@title Run OpenLANE { display-mode: \"form\" }\n",
        "%env WORKAROUND = {workaround.value}\n",
        "!flow.tcl -design . -to routing"
      ],
      "metadata": {
        "colab": {
          "base_uri": "https://localhost:8080/"
        },
        "id": "Z21_ONfXS1v4",
        "outputId": "be6cb264-475c-4e8a-fe7b-86fff8e26581"
      },
      "execution_count": 16,
      "outputs": [
        {
          "output_type": "stream",
          "name": "stdout",
          "text": [
            "env: WORKAROUND=disabled\n",
            "OpenLane 2023.04.12_0_g23e367a9-conda\n",
            "All rights reserved. (c) 2020-2022 Efabless Corporation and contributors.\n",
            "Available under the Apache License, version 2.0. See the LICENSE file for more details.\n",
            "\n",
            "\u001b[36m[INFO]: Using configuration in 'config.tcl'...\u001b[39m\n",
            "\u001b[36m[INFO]: PDK Root: /content/eda/share/pdk\u001b[39m\n",
            "\u001b[36m[INFO]: Process Design Kit: gf180mcuC\u001b[39m\n",
            "\u001b[36m[INFO]: Standard Cell Library: gf180mcu_fd_sc_mcu7t5v0\u001b[39m\n",
            "\u001b[36m[INFO]: Optimization Standard Cell Library: gf180mcu_fd_sc_mcu7t5v0\u001b[39m\n",
            "\u001b[33m[WARNING]: DIODE_INSERTION_STRATEGY is now deprecated; use GRT_REPAIR_ANTENNAS, DIODE_ON_PORTS and RUN_HEURISTIC_DIODE_INSERTION instead.\u001b[39m\n",
            "\u001b[36m[INFO]: DIODE_INSERTION_STRATEGY set to 0. Setting GRT_REPAIR_ANTENNAS to 0\u001b[39m\n",
            "\u001b[36m[INFO]: Run Directory: /content/runs/RUN_2023.06.29_11.01.01\u001b[39m\n",
            "\u001b[36m[INFO]: Preparing LEF files for the nom corner...\u001b[39m\n",
            "\u001b[36m[INFO]: Preparing LEF files for the min corner...\u001b[39m\n",
            "\u001b[36m[INFO]: Preparing LEF files for the max corner...\u001b[39m\n",
            "\u001b[33m[WARNING]: GPIO_PADS_VERILOG is not set; cannot read as a blackbox\u001b[39m\n",
            "[STEP 1]\n",
            "\u001b[36m[INFO]: Running Synthesis (log: runs/RUN_2023.06.29_11.01.01/logs/synthesis/1-synthesis.log)...\u001b[39m\n",
            "[STEP 2]\n",
            "\u001b[36m[INFO]: Running Single-Corner Static Timing Analysis (log: runs/RUN_2023.06.29_11.01.01/logs/synthesis/2-sta.log)...\u001b[39m\n",
            "[STEP 3]\n",
            "\u001b[36m[INFO]: Running Initial Floorplanning (log: runs/RUN_2023.06.29_11.01.01/logs/floorplan/3-initial_fp.log)...\u001b[39m\n",
            "\u001b[36m[INFO]: Floorplanned with width 719.6 and height 717.36.\u001b[39m\n",
            "[STEP 4]\n",
            "\u001b[36m[INFO]: Running IO Placement...\u001b[39m\n",
            "[STEP 5]\n",
            "\u001b[36m[INFO]: Running Global Placement (log: runs/RUN_2023.06.29_11.01.01/logs/placement/5-global.log)...\u001b[39m\n",
            "[STEP 6]\n",
            "\u001b[36m[INFO]: Running Single-Corner Static Timing Analysis (log: runs/RUN_2023.06.29_11.01.01/logs/placement/6-sta-global.log)...\u001b[39m\n",
            "[STEP 7]\n",
            "\u001b[36m[INFO]: Running basic macro placement (log: runs/RUN_2023.06.29_11.01.01/logs/placement/7-basic_mp.log)...\u001b[39m\n",
            "[STEP 8]\n",
            "\u001b[36m[INFO]: Running Tap/Decap Insertion (log: runs/RUN_2023.06.29_11.01.01/logs/floorplan/8-tap.log)...\u001b[39m\n",
            "\u001b[36m[INFO]: Power planning with power {VDD} and ground {VSS}...\u001b[39m\n",
            "[STEP 9]\n",
            "\u001b[36m[INFO]: Generating PDN (log: runs/RUN_2023.06.29_11.01.01/logs/floorplan/9-pdn.log)...\u001b[39m\n",
            "[STEP 10]\n",
            "\u001b[36m[INFO]: Running Global Placement (log: runs/RUN_2023.06.29_11.01.01/logs/placement/10-global.log)...\u001b[39m\n",
            "[STEP 11]\n",
            "\u001b[36m[INFO]: Running Single-Corner Static Timing Analysis (log: runs/RUN_2023.06.29_11.01.01/logs/placement/11-sta-global.log)...\u001b[39m\n",
            "[STEP 12]\n",
            "\u001b[36m[INFO]: Running Placement Resizer Design Optimizations (log: runs/RUN_2023.06.29_11.01.01/logs/placement/12-resizer.log)...\u001b[39m\n",
            "[STEP 13]\n",
            "\u001b[36m[INFO]: Running Detailed Placement (log: runs/RUN_2023.06.29_11.01.01/logs/placement/13-detailed.log)...\u001b[39m\n",
            "[STEP 14]\n",
            "\u001b[36m[INFO]: Running Single-Corner Static Timing Analysis (log: runs/RUN_2023.06.29_11.01.01/logs/placement/14-sta.log)...\u001b[39m\n",
            "[STEP 15]\n",
            "\u001b[36m[INFO]: Running Clock Tree Synthesis (log: runs/RUN_2023.06.29_11.01.01/logs/cts/15-cts.log)...\u001b[39m\n",
            "[STEP 16]\n",
            "\u001b[36m[INFO]: Running Single-Corner Static Timing Analysis (log: runs/RUN_2023.06.29_11.01.01/logs/cts/16-sta.log)...\u001b[39m\n",
            "[STEP 17]\n",
            "\u001b[36m[INFO]: Running Placement Resizer Timing Optimizations (log: runs/RUN_2023.06.29_11.01.01/logs/cts/17-resizer.log)...\u001b[39m\n",
            "[STEP 18]\n",
            "\u001b[36m[INFO]: Running Global Routing Resizer Design Optimizations (log: runs/RUN_2023.06.29_11.01.01/logs/routing/18-resizer_design.log)...\u001b[39m\n",
            "[STEP 19]\n",
            "\u001b[36m[INFO]: Running Single-Corner Static Timing Analysis (log: runs/RUN_2023.06.29_11.01.01/logs/routing/19-sta-resizer_design.log)...\u001b[39m\n",
            "[STEP 20]\n",
            "\u001b[36m[INFO]: Running Global Routing Resizer Timing Optimizations (log: runs/RUN_2023.06.29_11.01.01/logs/routing/20-resizer_timing.log)...\u001b[39m\n",
            "[STEP 21]\n",
            "\u001b[36m[INFO]: Running Single-Corner Static Timing Analysis (log: runs/RUN_2023.06.29_11.01.01/logs/routing/21-sta-resizer_timing.log)...\u001b[39m\n",
            "[STEP 22]\n",
            "\u001b[36m[INFO]: Running Global Routing (log: runs/RUN_2023.06.29_11.01.01/logs/routing/22-global.log)...\u001b[39m\n",
            "[STEP 23]\n",
            "\u001b[36m[INFO]: Writing Verilog (log: runs/RUN_2023.06.29_11.01.01/logs/routing/22-global_write_netlist.log)...\u001b[39m\n",
            "[STEP 24]\n",
            "\u001b[36m[INFO]: Running Single-Corner Static Timing Analysis (log: runs/RUN_2023.06.29_11.01.01/logs/routing/24-sta-groute.log)...\u001b[39m\n",
            "[STEP 25]\n",
            "\u001b[36m[INFO]: Running Fill Insertion (log: runs/RUN_2023.06.29_11.01.01/logs/routing/25-fill.log)...\u001b[39m\n",
            "[STEP 26]\n",
            "\u001b[36m[INFO]: Running Detailed Routing (log: runs/RUN_2023.06.29_11.01.01/logs/routing/26-detailed.log)...\u001b[39m\n",
            "\u001b[31m[ERROR]: during executing openroad script /content/eda/share/openlane/scripts/openroad/droute.tcl\u001b[39m\n",
            "\u001b[31m[ERROR]: Log: runs/RUN_2023.06.29_11.01.01/logs/routing/26-detailed.log\u001b[39m\n",
            "\u001b[31m[ERROR]: Last 10 lines:\n",
            "[INFO DRT-0033] Via3 shape region query size = 2760.\n",
            "[INFO DRT-0033] Metal4 shape region query size = 25741.\n",
            "[INFO DRT-0033] Via4 shape region query size = 1506.\n",
            "[INFO DRT-0033] Metal5 shape region query size = 13841.\n",
            "[INFO DRT-0165] Start pin access.\n",
            "[ERROR DRT-0073] No access point for pad_din/PAD.\n",
            "[ERROR DRT-0073] No access point for pad_dout/PAD.\n",
            "[ERROR DRT-0073] No access point for pad_clk/PAD.\n",
            "Error: droute.tcl, 38 DRT-0073\n",
            "child process exited abnormally\n",
            "\u001b[39m\n",
            "\u001b[31m[ERROR]: Creating issue reproducible...\u001b[39m\n",
            "\u001b[36m[INFO]: Saving runtime environment...\u001b[39m\n",
            "OpenLane TCL Issue Packager\n",
            "\n",
            "EFABLESS CORPORATION AND ALL AUTHORS OF THE OPENLANE PROJECT SHALL NOT BE HELD\n",
            "LIABLE FOR ANY LEAKS THAT MAY OCCUR TO ANY PROPRIETARY DATA AS A RESULT OF USING\n",
            "THIS SCRIPT. THIS SCRIPT IS PROVIDED ON AN \"AS IS\" BASIS, WITHOUT WARRANTIES OR\n",
            "CONDITIONS OF ANY KIND.\n",
            "\n",
            "BY USING THIS SCRIPT, YOU ACKNOWLEDGE THAT YOU FULLY UNDERSTAND THIS DISCLAIMER\n",
            "AND ALL IT ENTAILS.\n",
            "\n",
            "Parsing config file(s)…\n",
            "Setting up /content/runs/RUN_2023.06.29_11.01.01/issue_reproducible…\n",
            "Traceback (most recent call last):\n",
            "  File \"/content/eda/share/openlane/scripts/or_issue.py\", line 414, in <module>\n",
            "    issue()\n",
            "  File \"/content/eda/lib/python3.10/site-packages/click/core.py\", line 1128, in __call__\n",
            "    return self.main(*args, **kwargs)\n",
            "  File \"/content/eda/lib/python3.10/site-packages/click/core.py\", line 1053, in main\n",
            "    rv = self.invoke(ctx)\n",
            "  File \"/content/eda/lib/python3.10/site-packages/click/core.py\", line 1395, in invoke\n",
            "    return ctx.invoke(self.callback, **ctx.params)\n",
            "  File \"/content/eda/lib/python3.10/site-packages/click/core.py\", line 754, in invoke\n",
            "    return __callback(*args, **kwargs)\n",
            "  File \"/content/eda/share/openlane/scripts/or_issue.py\", line 205, in issue\n",
            "    mkdirp(destination_folder)\n",
            "  File \"/content/eda/share/openlane/scripts/or_issue.py\", line 198, in mkdirp\n",
            "    return pathlib.Path(path).mkdir(parents=True, exist_ok=True)\n",
            "TypeError: mkdir() got an unexpected keyword argument 'exist_ok'\n",
            "\u001b[31m[ERROR]: Failed to package reproducible.\u001b[39m\n",
            "\u001b[31m[ERROR]: Step(26:routing) failed with error:\n",
            "-code 1 -level 0 -errorstack {INNER {invokeStk1 throw_error} CALL {run_tcl_script -tool openroad -no_consume /content/eda/share/openlane/scripts/openroad/droute.tcl -indexed_log /content/runs/RUN_2023.06.29_11.01.01/logs/routing/26-detailed.log -save to=/content/runs/RUN_2023.06.29_11.01.01/results/routing,noindex,def,odb,netlist,powered_netlist} CALL {run_openroad_script /content/eda/share/openlane/scripts/openroad/droute.tcl -indexed_log /content/runs/RUN_2023.06.29_11.01.01/logs/routing/26-detailed.log -save to=/content/runs/RUN_2023.06.29_11.01.01/results/routing,noindex,def,odb,netlist,powered_netlist} CALL detailed_routing_tritonroute CALL detailed_routing CALL run_routing CALL run_routing_step CALL {run_non_interactive_mode -design . -to routing}} -errorcode NONE -errorinfo {\n",
            "    while executing\n",
            "\"throw_error\"\n",
            "    (procedure \"run_tcl_script\" line 214)\n",
            "    invoked from within\n",
            "\"run_tcl_script -tool openroad -no_consume {*}$args\"\n",
            "    (procedure \"run_openroad_script\" line 2)\n",
            "    invoked from within\n",
            "\"run_openroad_script $::env(SCRIPTS_DIR)/openroad/droute.tcl -indexed_log $log -save \"to=$::env(routing_results),noindex,def,odb,netlist,powered_netlis...\"\n",
            "    (procedure \"detailed_routing_tritonroute\" line 14)\n",
            "    invoked from within\n",
            "\"detailed_routing_tritonroute {*}$args\"\n",
            "    (procedure \"detailed_routing\" line 2)\n",
            "    invoked from within\n",
            "\"detailed_routing\"\n",
            "    (procedure \"run_routing\" line 35)\n",
            "    invoked from within\n",
            "\"run_routing\"\n",
            "    (procedure \"run_routing_step\" line 7)\n",
            "    invoked from within\n",
            "\"run_routing_step\"} -errorline 1\u001b[39m\n",
            "\u001b[36m[INFO]: Saving current set of views in 'runs/RUN_2023.06.29_11.01.01/results/final'...\u001b[39m\n",
            "\u001b[36m[INFO]: Generating final set of reports...\u001b[39m\n",
            "\u001b[36m[INFO]: Created manufacturability report at 'runs/RUN_2023.06.29_11.01.01/reports/manufacturability.rpt'.\u001b[39m\n",
            "\u001b[36m[INFO]: Created metrics report at 'runs/RUN_2023.06.29_11.01.01/reports/metrics.csv'.\u001b[39m\n",
            "\u001b[36m[INFO]: Saving runtime environment...\u001b[39m\n",
            "\u001b[31m[ERROR]: Flow failed.\u001b[39m\n",
            "\u001b[36m[INFO]: The failure may have been because of the following warnings:\u001b[39m\n",
            "[WARNING]: GPIO_PADS_VERILOG is not set; cannot read as a blackbox\n",
            "\n"
          ]
        }
      ]
    }
  ],
  "metadata": {
    "colab": {
      "provenance": [],
      "include_colab_link": true
    },
    "kernelspec": {
      "display_name": "Python 3",
      "name": "python3"
    },
    "language_info": {
      "name": "python"
    },
    "widgets": {
      "application/vnd.jupyter.widget-state+json": {
        "4284057098be4c2ea5a2622db03bdfd9": {
          "model_module": "@jupyter-widgets/controls",
          "model_name": "RadioButtonsModel",
          "model_module_version": "1.5.0",
          "state": {
            "_dom_classes": [],
            "_model_module": "@jupyter-widgets/controls",
            "_model_module_version": "1.5.0",
            "_model_name": "RadioButtonsModel",
            "_options_labels": [
              "enabled",
              "disabled"
            ],
            "_view_count": null,
            "_view_module": "@jupyter-widgets/controls",
            "_view_module_version": "1.5.0",
            "_view_name": "RadioButtonsView",
            "description": "",
            "description_tooltip": null,
            "disabled": false,
            "index": 1,
            "layout": "IPY_MODEL_67475c053f624acfa939d5d5d63f417a",
            "style": "IPY_MODEL_3a55f57aa1bc4504a5b950955d4c9cb5"
          }
        },
        "67475c053f624acfa939d5d5d63f417a": {
          "model_module": "@jupyter-widgets/base",
          "model_name": "LayoutModel",
          "model_module_version": "1.2.0",
          "state": {
            "_model_module": "@jupyter-widgets/base",
            "_model_module_version": "1.2.0",
            "_model_name": "LayoutModel",
            "_view_count": null,
            "_view_module": "@jupyter-widgets/base",
            "_view_module_version": "1.2.0",
            "_view_name": "LayoutView",
            "align_content": null,
            "align_items": null,
            "align_self": null,
            "border": null,
            "bottom": null,
            "display": null,
            "flex": null,
            "flex_flow": null,
            "grid_area": null,
            "grid_auto_columns": null,
            "grid_auto_flow": null,
            "grid_auto_rows": null,
            "grid_column": null,
            "grid_gap": null,
            "grid_row": null,
            "grid_template_areas": null,
            "grid_template_columns": null,
            "grid_template_rows": null,
            "height": null,
            "justify_content": null,
            "justify_items": null,
            "left": null,
            "margin": null,
            "max_height": null,
            "max_width": null,
            "min_height": null,
            "min_width": null,
            "object_fit": null,
            "object_position": null,
            "order": null,
            "overflow": null,
            "overflow_x": null,
            "overflow_y": null,
            "padding": null,
            "right": null,
            "top": null,
            "visibility": null,
            "width": null
          }
        },
        "3a55f57aa1bc4504a5b950955d4c9cb5": {
          "model_module": "@jupyter-widgets/controls",
          "model_name": "DescriptionStyleModel",
          "model_module_version": "1.5.0",
          "state": {
            "_model_module": "@jupyter-widgets/controls",
            "_model_module_version": "1.5.0",
            "_model_name": "DescriptionStyleModel",
            "_view_count": null,
            "_view_module": "@jupyter-widgets/base",
            "_view_module_version": "1.2.0",
            "_view_name": "StyleView",
            "description_width": ""
          }
        }
      }
    }
  },
  "nbformat": 4,
  "nbformat_minor": 0
}