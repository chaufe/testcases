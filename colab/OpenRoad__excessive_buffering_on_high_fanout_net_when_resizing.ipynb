{
  "cells": [
    {
      "cell_type": "markdown",
      "metadata": {
        "id": "view-in-github",
        "colab_type": "text"
      },
      "source": [
        "<a href=\"https://colab.research.google.com/github/chaufe/testcases/blob/main/colab/OpenRoad__excessive_buffering_on_high_fanout_net_when_resizing.ipynb\" target=\"_parent\"><img src=\"https://colab.research.google.com/assets/colab-badge.svg\" alt=\"Open In Colab\"/></a>"
      ]
    },
    {
      "cell_type": "markdown",
      "metadata": {
        "id": "mg0gmmTELTUR"
      },
      "source": [
        "### **Testcase to show excessive buffering in OpenRoad on high-fanout nets**"
      ]
    },
    {
      "cell_type": "markdown",
      "metadata": {
        "id": "bDybsTKu_zRr"
      },
      "source": [
        "### Environment and Software Setup\n",
        "- setup environment\n",
        "- install conda-eda, GF180MCU PDK and EDA software\n",
        "- install and patch helper software"
      ]
    },
    {
      "cell_type": "code",
      "execution_count": null,
      "metadata": {
        "id": "9cLJ4l_6DYq6"
      },
      "outputs": [],
      "source": [
        "#@title Install a few packages required later-on { display-mode: \"form\" }\n",
        "!dpkg --configure -a\n",
        "!apt install python3-click"
      ]
    },
    {
      "cell_type": "code",
      "execution_count": null,
      "metadata": {
        "id": "oMNMTG3QGWvT"
      },
      "outputs": [],
      "source": [
        "#@title Install Anaconda environment {display-mode: \"form\"}\n",
        "CONDA_PREFIX = '/content/eda'\n",
        "%env CONDA_PREFIX = {CONDA_PREFIX}\n",
        "!echo 'Will install CONDA EDA to {CONDA_PREFIX}'\n",
        "!test -e Install.sh || wget -O Install.sh https://github.com/proppy/conda-eda/releases/download/v0.0-1445-gdbbed53/digital.gf180mcuc-0-Linux-x86_64.sh\n",
        "!test -d {CONDA_PREFIX} || bash Install.sh -b -p {CONDA_PREFIX}"
      ]
    },
    {
      "cell_type": "code",
      "execution_count": null,
      "metadata": {
        "id": "U9j3td-bem7j"
      },
      "outputs": [],
      "source": [
        "#@title Update conda packages {display-mode: \"form\"}\n",
        "!{CONDA_PREFIX}/bin/conda update --yes --all"
      ]
    },
    {
      "cell_type": "code",
      "source": [
        "#@title Install EDA software { display-mode: \"form\" }\n",
        "\n",
        "# use hard-coded packages as version resolution does not work as expected\n",
        "for pkg in [\n",
        "    'https://anaconda.org/LiteX-Hub/openroad/2.0_9365_g327a5f003/download/linux-64/openroad-2.0_9365_g327a5f003-20230709_210322.tar.bz2',\n",
        "]:\n",
        "  print(\"Installing \" + pkg)\n",
        "  !{CONDA_PREFIX}/bin/conda install --yes {pkg}"
      ],
      "metadata": {
        "id": "fiYgeYzY1xRo"
      },
      "execution_count": null,
      "outputs": []
    },
    {
      "cell_type": "code",
      "execution_count": null,
      "metadata": {
        "id": "Bi_tQkrpK847"
      },
      "outputs": [],
      "source": [
        "#@title Setup remaining variables { display-mode: 'form'}\n",
        "%env CONDA_PREFIX = {CONDA_PREFIX}\n",
        "import os\n",
        "%env PATH = {CONDA_PREFIX + '/bin:' + os.getenv('PATH')}\n",
        "%env PDK_ROOT = {CONDA_PREFIX + '/share/pdk'}\n",
        "%env PDK = gf180mcuC\n",
        "%env IO_LIB_PATH = {CONDA_PREFIX + '/share/pdk/gf180mcuC/libs.ref/gf180mcu_fd_io'}\n",
        "%env SRAM_LIB_PATH = {CONDA_PREFIX + '/share/pdk/gf180mcuC/libs.ref/gf180mcu_fd_ip_sram'}\n",
        "!echo $PYTHONPATH"
      ]
    },
    {
      "cell_type": "code",
      "source": [
        "#@title Create patch file for GF180MCU IO IP { display-mode: \"form\" }\n",
        "#!wget https://raw.githubusercontent.com/chaufe/testcases/main/patches/gf180mcu_fd_io.lef.patch\n",
        "%%writefile \"gf180mcu_fd_io.lef.patch\"\n",
        "--- eda/share/pdk/gf180mcuC/libs.ref/gf180mcu_fd_io/lef/gf180mcu_fd_io.lef\t2023-02-13 13:43:43.000000000 +0100\n",
        "+++ eda/share/pdk/gf180mcuC/libs.ref/gf180mcu_fd_io/lef/gf180mcu_fd_io.lef\t2023-03-30 10:19:34.792862000 +0200\n",
        "@@ -3,6 +3,20 @@\n",
        "   DIVIDERCHAR \"/\" ;\n",
        "   BUSBITCHARS \"[]\" ;\n",
        "+\n",
        "+SITE GF_IO_Site\n",
        "+  SYMMETRY X Y ;\n",
        "+  CLASS PAD ;\n",
        "+  SIZE 1 BY 350 ;\n",
        "+END GF_IO_Site\n",
        "+\n",
        "+SITE GF_COR_Site\n",
        "+  SYMMETRY X Y ;\n",
        "+  CLASS PAD ;\n",
        "+  SIZE 355 BY 355 ;\n",
        "+END GF_COR_Site\n",
        "+\n",
        "+\n",
        " MACRO gf180mcu_fd_io__asig_5p0\n",
        "-  CLASS PAD INOUT ;\n",
        "+  CLASS PAD AREAIO ;\n",
        "   FOREIGN gf180mcu_fd_io__asig_5p0 ;\n",
        "   ORIGIN 0.000 0.000 ;\n",
        "@@ -815,5 +829,5 @@\n",
        "\n",
        " MACRO gf180mcu_fd_io__bi_24t\n",
        "-  CLASS PAD INOUT ;\n",
        "+  CLASS PAD AREAIO ;\n",
        "   FOREIGN gf180mcu_fd_io__bi_24t ;\n",
        "   ORIGIN 0.000 0.000 ;\n",
        "@@ -1669,5 +1683,5 @@\n",
        "\n",
        " MACRO gf180mcu_fd_io__bi_t\n",
        "-  CLASS PAD INOUT ;\n",
        "+  CLASS PAD AREAIO ;\n",
        "   FOREIGN gf180mcu_fd_io__bi_t ;\n",
        "   ORIGIN 0.000 0.000 ;\n",
        "@@ -3807,5 +3821,5 @@\n",
        "\n",
        " MACRO gf180mcu_fd_io__dvdd\n",
        "-  CLASS PAD POWER ;\n",
        "+  CLASS PAD AREAIO ;\n",
        "   FOREIGN gf180mcu_fd_io__dvdd ;\n",
        "   ORIGIN 0.000 0.000 ;\n",
        "@@ -4600,5 +4614,5 @@\n",
        "\n",
        " MACRO gf180mcu_fd_io__dvss\n",
        "-  CLASS PAD POWER ;\n",
        "+  CLASS PAD AREAIO ;\n",
        "   FOREIGN gf180mcu_fd_io__dvss ;\n",
        "   ORIGIN 0.000 0.000 ;\n",
        "@@ -7609,5 +7623,5 @@\n",
        "\n",
        " MACRO gf180mcu_fd_io__in_c\n",
        "-  CLASS PAD INPUT ;\n",
        "+  CLASS PAD AREAIO ;\n",
        "   FOREIGN gf180mcu_fd_io__in_c ;\n",
        "   ORIGIN 0.000 0.000 ;\n",
        "@@ -8416,5 +8430,5 @@\n",
        "\n",
        " MACRO gf180mcu_fd_io__in_s\n",
        "-  CLASS PAD INPUT ;\n",
        "+  CLASS PAD AREAIO ;\n",
        "   FOREIGN gf180mcu_fd_io__in_s ;\n",
        "   ORIGIN 0.000 0.000 ;\n"
      ],
      "metadata": {
        "id": "-uviimUD5MHb"
      },
      "execution_count": null,
      "outputs": []
    },
    {
      "cell_type": "code",
      "source": [
        "#@title Patch GF180MCU IP { display-mode: \"form\" }\n",
        "!patch -p0 < gf180mcu_fd_io.lef.patch"
      ],
      "metadata": {
        "id": "vzAbSUtQck-x"
      },
      "execution_count": null,
      "outputs": []
    },
    {
      "cell_type": "markdown",
      "source": [
        "### Create Testcase"
      ],
      "metadata": {
        "id": "DObFBwGPYcUw"
      }
    },
    {
      "cell_type": "code",
      "source": [
        "#@title Write testcase RTL { display-mode: \"form\" }\n",
        "%%writefile \"testcase.v\"\n",
        "module testcase (input clk,\n",
        "                 input din,\n",
        "                 input rst,\n",
        "                 output wire dout);\n",
        "\n",
        "   parameter FLOPS = 500;\n",
        "\n",
        "   wire clk_int;\n",
        "   wire din_int;\n",
        "   wire rst_int;\n",
        "   wire dout_int;\n",
        "\n",
        "\n",
        "   // pads\n",
        "   (* keep *) gf180mcu_fd_io__bi_t pad_dout(\n",
        "                                            .PU(1'b0), .PD(1'b0),\n",
        "                                            .OE(1'b1), .IE(1'b0),\n",
        "                                            .PDRV0(1'b0), .PDRV1(1'b0),\n",
        "                                            .CS(1'b0), .SL(1'b0),\n",
        "                                            .PAD(dout),\n",
        "                                            .A(dout_int),\n",
        "                                            .Y()\n",
        "                                            );\n",
        "\n",
        "   (* keep *) gf180mcu_fd_io__in_s pad_clk(\n",
        "                                           .PU(1'b0), .PD(1'b0),\n",
        "                                           .PAD(clk),\n",
        "                                           .Y(clk_int)\n",
        "                                           );\n",
        "\n",
        "   (* keep *) gf180mcu_fd_io__in_s pad_din(\n",
        "                                           .PU(1'b0), .PD(1'b0),\n",
        "                                           .PAD(din),\n",
        "                                           .Y(din_int)\n",
        "                                           );\n",
        "\n",
        "   (* keep *) gf180mcu_fd_io__in_s pad_rst(\n",
        "                                           .PU(1'b0), .PD(1'b0),\n",
        "                                           .PAD(rst),\n",
        "                                           .Y(rst_int/*_unbuf*/)\n",
        "                                           );\n",
        "\n",
        "// gf180mcu_fd_sc_mcu7t5v0__buf_4 buf_i(.I(rst_int_unbuf), .Z(rst_int)) ;\n",
        "\n",
        "  wire [FLOPS-1:0] flop_q;\n",
        "\n",
        "  gf180mcu_fd_sc_mcu7t5v0__sdffq_1 flops [FLOPS-1:0] (\n",
        "    .CLK({FLOPS{clk_int}}),\n",
        "    .SE({FLOPS{rst_int}}),\n",
        "    .SI({FLOPS{1'b0}}),\n",
        "    .D({flop_q[FLOPS-2:0], din_int}),\n",
        "    .Q(flop_q),\n",
        "  );\n",
        "\n",
        "  gf180mcu_fd_sc_mcu7t5v0__sdffq_1 flop_xor (\n",
        "    .CLK(clk_int),\n",
        "    .SE(rst_int),\n",
        "    .SI(1'b0),\n",
        "    .D(^{flop_q/*,sram_q*/}),\n",
        "    .Q(dout_int),\n",
        "  );\n",
        "\n",
        "endmodule\n"
      ],
      "metadata": {
        "id": "iT_0ekwPQNG4",
        "outputId": "b4d6d778-27df-46fb-9440-990e74da367a",
        "colab": {
          "base_uri": "https://localhost:8080/"
        }
      },
      "execution_count": 64,
      "outputs": [
        {
          "output_type": "stream",
          "name": "stdout",
          "text": [
            "Overwriting testcase.v\n"
          ]
        }
      ]
    },
    {
      "cell_type": "code",
      "source": [
        "#@title Write config.tcl to control OpenLANE { display-mode: \"form\" }\n",
        "%%writefile \"config.tcl\"\n",
        "\n",
        "set ::env(DESIGN_NAME) \"testcase\"\n",
        "\n",
        "set ::env(VERILOG_FILES) [list \"testcase.v\" ]\n",
        "\n",
        "set ::env(EXTRA_LIBS) [list \\\n",
        "  $::env(IO_LIB_PATH)/liberty/gf180mcu_fd_io__tt_025C_5v00.lib \\\n",
        "  $::env(IO_LIB_PATH)/liberty/gf180mcu_fd_io__ff_n40C_5v50.lib \\\n",
        "  $::env(IO_LIB_PATH)/liberty/gf180mcu_fd_io__ff_125C_5v50.lib \\\n",
        "  $::env(IO_LIB_PATH)/liberty/gf180mcu_fd_io__ss_125C_4v50.lib \\\n",
        "  $::env(PDK_ROOT)/gf180mcuC/libs.ref/gf180mcu_fd_sc_mcu7t5v0/liberty/gf180mcu_fd_sc_mcu7t5v0__tt_025C_5v00.lib \\\n",
        "]\n",
        "\n",
        "set ::env(EXTRA_LEFS) [list \\\n",
        "  $::env(PDK_ROOT)/gf180mcuC/libs.ref/gf180mcu_fd_sc_mcu7t5v0/lef/gf180mcu_fd_sc_mcu7t5v0.lef \\\n",
        "]\n",
        "\n",
        "set ::env(EXTRA_GDS_FILES) [list \\\n",
        "  $::env(IO_LIB_PATH)/gds/gf180mcu_fd_io.gds \\\n",
        "]\n",
        "\n",
        "set ::env(DESIGN_IS_CORE) 1\n",
        "set ::env(FP_PDN_CORE_RING) 1\n",
        "\n",
        "set ::env(GRT_ALLOW_CONGESTION) 1\n",
        "set ::env(DRT_OPT_ITERS) 10\n",
        "\n",
        "set ::env(DIODE_INSERTION_STRATEGY) 0\n",
        "\n",
        "set ::env(USE_GPIO_PADS) 1\n",
        "set ::env(GPIO_PADS_LEF) $::env(IO_LIB_PATH)/lef/gf180mcu_fd_io.lef\n",
        "unset ::env(GPIO_PADS_VERILOG)\n",
        "set ::env(FP_IO_MODE) 1\n",
        "\n",
        "set ::env(FP_PDN_UPPER_LAYER) Metal5\n",
        "set ::env(FP_PDN_LOWER_LAYER) Metal4\n",
        "set ::env(FP_PDN_RAILS_LAYER) Metal1\n",
        "set ::env(FP_PDN_CORE_RING_VWIDTH) 5.0\n",
        "set ::env(FP_PDN_CORE_RING_HWIDTH) 5.0\n",
        "set ::env(FP_PDN_CORE_RING_VSPACING) 1.0\n",
        "set ::env(FP_PDN_CORE_RING_HSPACING) 1.0\n",
        "\n",
        "set ::env(SYNTH_NO_FLAT) 0\n",
        "set ::env(SYNTH_SHARE_RESOURCES) 1\n",
        "\n",
        "set ::env(CLOCK_TREE_SYNTH) 1\n",
        "set ::env(CLOCK_PORT) \"clk\"\n",
        "set ::env(CLOCK_PERIOD) 100\n",
        "\n",
        "set ::env(FP_SIZING) absolute\n",
        "set ::env(DIE_AREA) \"0 0 1460 1460\"\n",
        "set ::env(CORE_AREA) \"370 370 1090 1090\"\n",
        "\n",
        "set ::env(PL_TARGET_DENSITY) 0.65\n",
        "\n",
        "# MAGIC GDS-out controls\n",
        "## ... try GDS with hierarchy\n",
        "set ::env(MAGIC_DISABLE_HIER_GDS) 0\n",
        "set ::env(MAGIC_GENERATE_LEF) 0\n",
        "set ::env(MAGIC_GENERATE_MAGLEF) 0"
      ],
      "metadata": {
        "id": "Blqb1dPLR-CF",
        "colab": {
          "base_uri": "https://localhost:8080/"
        },
        "outputId": "d2005a0f-0555-4839-f3ef-503f4b820d15"
      },
      "execution_count": 52,
      "outputs": [
        {
          "output_type": "stream",
          "name": "stdout",
          "text": [
            "Overwriting config.tcl\n"
          ]
        }
      ]
    },
    {
      "cell_type": "code",
      "source": [
        "#@title Create macro config for dummy SRAM { display-mode: \"form\" }\n",
        "%%writefile 'macro.cfg'\n",
        "sram_i  370 370 FS ;"
      ],
      "metadata": {
        "colab": {
          "base_uri": "https://localhost:8080/"
        },
        "id": "24dizEPFaIft",
        "outputId": "cad4b73c-abca-4f33-f0d6-5888f3a327cb"
      },
      "execution_count": 10,
      "outputs": [
        {
          "output_type": "stream",
          "name": "stdout",
          "text": [
            "Writing macro.cfg\n"
          ]
        }
      ]
    },
    {
      "cell_type": "code",
      "source": [
        "#@title Use updated ioplace script to create pad ring { display-mode: \"form\" }\n",
        "%%writefile \"eda/share/openlane/scripts/openroad/ioplacer.tcl\"\n",
        "# Copyright 2020-2022 Efabless Corporation\n",
        "#\n",
        "# Licensed under the Apache License, Version 2.0 (the \"License\");\n",
        "# you may not use this file except in compliance with the License.\n",
        "# You may obtain a copy of the License at\n",
        "#\n",
        "#      http://www.apache.org/licenses/LICENSE-2.0\n",
        "#\n",
        "# Unless required by applicable law or agreed to in writing, software\n",
        "# distributed under the License is distributed on an \"AS IS\" BASIS,\n",
        "# WITHOUT WARRANTIES OR CONDITIONS OF ANY KIND, either express or implied.\n",
        "# See the License for the specific language governing permissions and\n",
        "# limitations under the License.\n",
        "source $::env(SCRIPTS_DIR)/openroad/common/io.tcl\n",
        "read\n",
        "\n",
        "if { [info exists ::env(CONTEXTUAL_IO_FLAG)] } {\n",
        "\tread_lef $::env(placement_tmpfiles)/top_level.lef\n",
        "}\n",
        "\n",
        "if {$::env(FP_IO_HLENGTH) != \"\" && $::env(FP_IO_HLENGTH) != \"\"} {\n",
        "\tset_pin_length -hor_length $::env(FP_IO_HLENGTH) \\\n",
        "\t\t-ver_length $::env(FP_IO_VLENGTH)\n",
        "}\n",
        "\n",
        "if {$::env(FP_IO_HEXTEND) != \"0\" && $::env(FP_IO_VEXTEND) != \"0\"} {\n",
        "\tset_pin_length_extension -hor_extension $::env(FP_IO_HEXTEND) \\\n",
        "\t\t-ver_extension $::env(FP_IO_VEXTEND)\n",
        "}\n",
        "\n",
        "if {$::env(FP_IO_VTHICKNESS_MULT) != \"\" && $::env(FP_IO_HTHICKNESS_MULT) != \"\"} {\n",
        "\tset_pin_thick_multiplier -hor_multiplier $::env(FP_IO_HTHICKNESS_MULT) \\\n",
        "\t\t-ver_multiplier $::env(FP_IO_VTHICKNESS_MULT)\n",
        "}\n",
        "\n",
        "set arg_list [list]\n",
        "if { $::env(FP_IO_MODE) == 1 } {\n",
        "\tlappend arg_list -random\n",
        "}\n",
        "\n",
        "if { $::env(FP_IO_MIN_DISTANCE) != \"\" } {\n",
        "\tlappend arg_list -min_distance $::env(FP_IO_MIN_DISTANCE)\n",
        "}\n",
        "\n",
        "set HMETAL $::env(FP_IO_HLAYER)\n",
        "set VMETAL $::env(FP_IO_VLAYER)\n",
        "\n",
        "place_pins {*}$arg_list \\\n",
        "\t-random_seed 42 \\\n",
        "\t-hor_layers $HMETAL \\\n",
        "\t-ver_layers $VMETAL\n",
        "\n",
        "# create io-ring\n",
        "make_io_sites -horizontal_site GF_IO_Site -vertical_site GF_IO_Site -corner_site GF_COR_Site -offset 0\n",
        "place_pad -master gf180mcu_fd_io__in_s   -row IO_NORTH -location  400.0 pad_dout\n",
        "place_pad -master gf180mcu_fd_io__in_s   -row IO_NORTH -location  700.0 pad_clk\n",
        "place_pad -master gf180mcu_fd_io__dvss   -row IO_NORTH -location 1000.0 pad_dvss1\n",
        "\n",
        "place_pad -master gf180mcu_fd_io__bi_24t -row IO_EAST  -location  400.0 pad_rst\n",
        "place_pad -master gf180mcu_fd_io__in_s   -row IO_EAST  -location  700.0 pad_din\n",
        "place_pad -master gf180mcu_fd_io__dvdd   -row IO_EAST  -location 1000.0 pad_dvdd1\n",
        "\n",
        "place_pad -master gf180mcu_fd_io__dvdd   -row IO_WEST  -location  400.0 pad_dvdd2\n",
        "place_pad -master gf180mcu_fd_io__dvss   -row IO_WEST  -location  700.0 pad_dvss2\n",
        "place_pad -master gf180mcu_fd_io__dvdd   -row IO_WEST  -location 1000.0 pad_dvdd3\n",
        "\n",
        "place_pad -master gf180mcu_fd_io__dvss   -row IO_SOUTH -location  400.0 pad_dvss3\n",
        "place_pad -master gf180mcu_fd_io__dvdd   -row IO_SOUTH -location  700.0 pad_dvdd4\n",
        "place_pad -master gf180mcu_fd_io__dvss   -row IO_SOUTH -location 1000.0 pad_dvss4\n",
        "\n",
        "place_corners gf180mcu_fd_io__cor\n",
        "foreach io_row { IO_EAST IO_WEST IO_SOUTH IO_NORTH } {\n",
        "    place_io_fill -row $io_row gf180mcu_fd_io__fill10 gf180mcu_fd_io__fill5 gf180mcu_fd_io__fill1\n",
        "}\n",
        "\n",
        "connect_by_abutment\n",
        "\n",
        "# work-around for pin-access error message\n",
        "\n",
        "# get db/chip/block\n",
        "set db [ord::get_db]\n",
        "set chip [$db getChip]\n",
        "set block [$chip getBlock]\n",
        "set dbu_m [$block getDbUnitsPerMicron]\n",
        "\n",
        "# mark all nets connected to pins (terminals) as special-net so OpenROAD will not try to route it\n",
        "foreach bterm [$block getBTerms] {\n",
        "  if {$bterm eq \"NULL\"} {\n",
        "      error \"Could not get terminals of block\"\n",
        "  } else {\n",
        "    set net [$bterm getNet]\n",
        "    if {$net eq \"NULL\"} {\n",
        "      error \"Block terminal [$bterm getName] returned NULL net\"\n",
        "    } else {\n",
        "      puts \"Setting net [$net getName] (connected to block terminal [$bterm getName]) to special-net\"\n",
        "      $net setSpecial\n",
        "    }\n",
        "  }\n",
        "}\n",
        "\n",
        "write\n"
      ],
      "metadata": {
        "id": "u4cTtAqsTjKL",
        "outputId": "e2b7cad7-a525-4da8-9ed3-256099c29e5a",
        "colab": {
          "base_uri": "https://localhost:8080/"
        }
      },
      "execution_count": 73,
      "outputs": [
        {
          "output_type": "stream",
          "name": "stdout",
          "text": [
            "Overwriting eda/share/openlane/scripts/openroad/ioplacer.tcl\n"
          ]
        }
      ]
    },
    {
      "cell_type": "code",
      "source": [
        "#@title Create modified version of resizer.tcl { display-mode: \"form\" }\n",
        "%%writefile eda/share/openlane/scripts/openroad/resizer.tcl\n",
        "# Copyright 2020-2022 Efabless Corporation\n",
        "#\n",
        "# Licensed under the Apache License, Version 2.0 (the \"License\");\n",
        "# you may not use this file except in compliance with the License.\n",
        "# You may obtain a copy of the License at\n",
        "#\n",
        "#      http://www.apache.org/licenses/LICENSE-2.0\n",
        "#\n",
        "# Unless required by applicable law or agreed to in writing, software\n",
        "# distributed under the License is distributed on an \"AS IS\" BASIS,\n",
        "# WITHOUT WARRANTIES OR CONDITIONS OF ANY KIND, either express or implied.\n",
        "# See the License for the specific language governing permissions and\n",
        "# limitations under the License.\n",
        "source $::env(SCRIPTS_DIR)/openroad/common/io.tcl\n",
        "read -override_libs \"$::env(RSZ_LIB)\"\n",
        "\n",
        "unset_propagated_clock [all_clocks]\n",
        "\n",
        "# set rc values\n",
        "source $::env(SCRIPTS_DIR)/openroad/common/set_rc.tcl\n",
        "\n",
        "# estimate wire rc parasitics\n",
        "estimate_parasitics -placement\n",
        "\n",
        "# work-around excessive buffering by adding one buffer to high-fanout net prior to resize\n",
        "if {[info exists ::env(WORKAROUND)] && ($::env(WORKAROUND) eq \"enabled\")} {\n",
        "  make_net rst_int_buffered\n",
        "  make_inst rst_int_buf gf180mcu_fd_sc_mcu7t5v0__buf_4\n",
        "  foreach pin [get_pins -of_objects [get_nets rst_int] -filter \"direction == input\"] {\n",
        "    disconnect_pin rst_int $pin\n",
        "    connect_pin rst_int_buffered $pin\n",
        "  }\n",
        "  connect_pin rst_int_buffered rst_int_buf/Z\n",
        "  connect_pin rst_int rst_int_buf/I\n",
        "  # place new cell rst_inst_buf\n",
        "  global_placement -incremental\n",
        "}\n",
        "\n",
        "report_design_area\n",
        "\n",
        "# set don't touch nets\n",
        "source $::env(SCRIPTS_DIR)/openroad/common/resizer.tcl\n",
        "set_dont_touch_rx \"$::env(RSZ_DONT_TOUCH_RX)\"\n",
        "\n",
        "# set don't use cells\n",
        "if { [info exists ::env(DONT_USE_CELLS)] } {\n",
        "    set_dont_use $::env(DONT_USE_CELLS)\n",
        "}\n",
        "\n",
        "if { [info exists ::env(PL_RESIZER_BUFFER_INPUT_PORTS)] && $::env(PL_RESIZER_BUFFER_INPUT_PORTS) } {\n",
        "    buffer_ports -inputs\n",
        "}\n",
        "\n",
        "if { [info exists ::env(PL_RESIZER_BUFFER_OUTPUT_PORTS)] && $::env(PL_RESIZER_BUFFER_OUTPUT_PORTS) } {\n",
        "    buffer_ports -outputs\n",
        "}\n",
        "# Resize\n",
        "if { [info exists ::env(PL_RESIZER_MAX_WIRE_LENGTH)] && $::env(PL_RESIZER_MAX_WIRE_LENGTH) } {\n",
        "    repair_design -max_wire_length $::env(PL_RESIZER_MAX_WIRE_LENGTH) \\\n",
        "        -slew_margin $::env(PL_RESIZER_MAX_SLEW_MARGIN) \\\n",
        "        -cap_margin $::env(PL_RESIZER_MAX_CAP_MARGIN)\n",
        "} else {\n",
        "    repair_design -slew_margin $::env(PL_RESIZER_MAX_SLEW_MARGIN) \\\n",
        "        -cap_margin $::env(PL_RESIZER_MAX_CAP_MARGIN)\n",
        "}\n",
        "report_design_area\n",
        "if { $::env(PL_RESIZER_REPAIR_TIE_FANOUT) == 1} {\n",
        "    # repair tie lo fanout\n",
        "    repair_tie_fanout -separation $::env(PL_RESIZER_TIE_SEPERATION) [lindex $::env(SYNTH_TIELO_PORT) 0]/[lindex $::env(SYNTH_TIELO_PORT) 1]\n",
        "    # repair tie hi fanout\n",
        "    repair_tie_fanout -separation $::env(PL_RESIZER_TIE_SEPERATION) [lindex $::env(SYNTH_TIEHI_PORT) 0]/[lindex $::env(SYNTH_TIEHI_PORT) 1]\n",
        "}\n",
        "\n",
        "report_floating_nets -verbose\n",
        "\n",
        "source $::env(SCRIPTS_DIR)/openroad/common/dpl_cell_pad.tcl\n",
        "\n",
        "detailed_placement\n",
        "\n",
        "if { [info exists ::env(PL_OPTIMIZE_MIRRORING)] && $::env(PL_OPTIMIZE_MIRRORING) } {\n",
        "    optimize_mirroring\n",
        "}\n",
        "\n",
        "if { [catch {check_placement -verbose} errmsg] } {\n",
        "    puts stderr $errmsg\n",
        "    exit 1\n",
        "}\n",
        "\n",
        "unset_dont_touch_rx \"$::env(RSZ_DONT_TOUCH_RX)\"\n",
        "\n",
        "write\n",
        "\n",
        "# Run post design optimizations STA\n",
        "estimate_parasitics -placement"
      ],
      "metadata": {
        "id": "U0i_JdxYW3s1"
      },
      "execution_count": null,
      "outputs": []
    },
    {
      "cell_type": "markdown",
      "source": [
        "### Run Testcase"
      ],
      "metadata": {
        "id": "1H3q18x_Ykhp"
      }
    },
    {
      "cell_type": "code",
      "source": [
        "#@title Enable or disable work-around { display-mode: \"form\" }\n",
        "import ipywidgets as widgets\n",
        "import IPython\n",
        "\n",
        "workaround = widgets.RadioButtons(\n",
        "    options=['enabled', 'disabled'],\n",
        "    value='disabled',\n",
        "    disabled=False\n",
        ")\n",
        "print('Enable or disable work-around?:')\n",
        "IPython.display.display(workaround)"
      ],
      "metadata": {
        "colab": {
          "base_uri": "https://localhost:8080/",
          "height": 78,
          "referenced_widgets": [
            "7997f2cbb1684620a637b3a3579711fa",
            "f9e20df76b8241a99423200c9e525c57",
            "3e3355bd0c0b481cb9889af86c262359"
          ]
        },
        "id": "00n2AIH668X3",
        "outputId": "fbf45afc-b3b3-449b-f1da-657e77cb9fff"
      },
      "execution_count": 20,
      "outputs": [
        {
          "output_type": "stream",
          "name": "stdout",
          "text": [
            "Enable or disable work-around?:\n"
          ]
        },
        {
          "output_type": "display_data",
          "data": {
            "text/plain": [
              "RadioButtons(index=1, options=('enabled', 'disabled'), value='disabled')"
            ],
            "application/vnd.jupyter.widget-view+json": {
              "version_major": 2,
              "version_minor": 0,
              "model_id": "7997f2cbb1684620a637b3a3579711fa"
            }
          },
          "metadata": {}
        }
      ]
    },
    {
      "cell_type": "code",
      "source": [
        "#@title Run OpenLANE { display-mode: \"form\" }\n",
        "%env WORKAROUND = {workaround.value}\n",
        "%env PYTHONPATH = /usr/lib/python310.zip;/usr/lib/python3.10:/usr/lib/python3.10/lib-dynload:/usr/local/lib/python3.10/dist-packages:/usr/lib/python3/dist-packages:/usr/local/lib/python3.10/dist-packages/IPython/extensions\n",
        "!flow.tcl -design . -to placement\n",
        "!grep -H -m1 -A7 \"Design area\" `ls runs/*/logs/placement/*-resizer.log | tail -n 1`"
      ],
      "metadata": {
        "id": "Z21_ONfXS1v4"
      },
      "execution_count": null,
      "outputs": []
    },
    {
      "cell_type": "code",
      "source": [
        "#@title Package issue { display-mode: \"form\" }\n",
        "import pathlib\n",
        "STEP='8'\n",
        "odb = sorted(pathlib.Path('/content/runs/').glob(f'*/tmp/*/{STEP}-*.odb'))[-1].resolve()\n",
        "\n",
        "%env PYTHONPATH = /content/eda/lib/python3.7:/content/eda/lib/python37.zip:/content/eda/lib/python3.7/lib-dynload:/content/eda/lib/python3.7/site-packages\n",
        "!python3.7 /content/eda/share/openlane/scripts/or_issue.py\\\n",
        "    --tool openroad\\\n",
        "    --script /content/eda/share/openlane/scripts/openroad/resizer.tcl {odb}\n",
        "\n",
        "!zip -9 -r _build.coredump_resizer.zip _build"
      ],
      "metadata": {
        "id": "kyC3x4cEHram"
      },
      "execution_count": null,
      "outputs": []
    }
  ],
  "metadata": {
    "colab": {
      "provenance": [],
      "include_colab_link": true
    },
    "kernelspec": {
      "display_name": "Python 3",
      "name": "python3"
    },
    "language_info": {
      "name": "python"
    },
    "widgets": {
      "application/vnd.jupyter.widget-state+json": {
        "7997f2cbb1684620a637b3a3579711fa": {
          "model_module": "@jupyter-widgets/controls",
          "model_name": "RadioButtonsModel",
          "model_module_version": "1.5.0",
          "state": {
            "_dom_classes": [],
            "_model_module": "@jupyter-widgets/controls",
            "_model_module_version": "1.5.0",
            "_model_name": "RadioButtonsModel",
            "_options_labels": [
              "enabled",
              "disabled"
            ],
            "_view_count": null,
            "_view_module": "@jupyter-widgets/controls",
            "_view_module_version": "1.5.0",
            "_view_name": "RadioButtonsView",
            "description": "",
            "description_tooltip": null,
            "disabled": false,
            "index": 1,
            "layout": "IPY_MODEL_f9e20df76b8241a99423200c9e525c57",
            "style": "IPY_MODEL_3e3355bd0c0b481cb9889af86c262359"
          }
        },
        "f9e20df76b8241a99423200c9e525c57": {
          "model_module": "@jupyter-widgets/base",
          "model_name": "LayoutModel",
          "model_module_version": "1.2.0",
          "state": {
            "_model_module": "@jupyter-widgets/base",
            "_model_module_version": "1.2.0",
            "_model_name": "LayoutModel",
            "_view_count": null,
            "_view_module": "@jupyter-widgets/base",
            "_view_module_version": "1.2.0",
            "_view_name": "LayoutView",
            "align_content": null,
            "align_items": null,
            "align_self": null,
            "border": null,
            "bottom": null,
            "display": null,
            "flex": null,
            "flex_flow": null,
            "grid_area": null,
            "grid_auto_columns": null,
            "grid_auto_flow": null,
            "grid_auto_rows": null,
            "grid_column": null,
            "grid_gap": null,
            "grid_row": null,
            "grid_template_areas": null,
            "grid_template_columns": null,
            "grid_template_rows": null,
            "height": null,
            "justify_content": null,
            "justify_items": null,
            "left": null,
            "margin": null,
            "max_height": null,
            "max_width": null,
            "min_height": null,
            "min_width": null,
            "object_fit": null,
            "object_position": null,
            "order": null,
            "overflow": null,
            "overflow_x": null,
            "overflow_y": null,
            "padding": null,
            "right": null,
            "top": null,
            "visibility": null,
            "width": null
          }
        },
        "3e3355bd0c0b481cb9889af86c262359": {
          "model_module": "@jupyter-widgets/controls",
          "model_name": "DescriptionStyleModel",
          "model_module_version": "1.5.0",
          "state": {
            "_model_module": "@jupyter-widgets/controls",
            "_model_module_version": "1.5.0",
            "_model_name": "DescriptionStyleModel",
            "_view_count": null,
            "_view_module": "@jupyter-widgets/base",
            "_view_module_version": "1.2.0",
            "_view_name": "StyleView",
            "description_width": ""
          }
        }
      }
    }
  },
  "nbformat": 4,
  "nbformat_minor": 0
}