{
  "cells": [
    {
      "cell_type": "markdown",
      "metadata": {
        "id": "view-in-github",
        "colab_type": "text"
      },
      "source": [
        "<a href=\"https://colab.research.google.com/github/chaufe/testcases/blob/main/colab/magic___buffer_overflow_when_merging_in_GF180MCU_SRAM_via_mag_file.ipynb\" target=\"_parent\"><img src=\"https://colab.research.google.com/assets/colab-badge.svg\" alt=\"Open In Colab\"/></a>"
      ]
    },
    {
      "cell_type": "markdown",
      "metadata": {
        "id": "mg0gmmTELTUR"
      },
      "source": [
        "### **Testcase to show buffer-overflow in magic when creating GDS containing GF180MCU SRAM macro**"
      ]
    },
    {
      "cell_type": "markdown",
      "metadata": {
        "id": "bDybsTKu_zRr"
      },
      "source": [
        "### Environment and Software Setup\n",
        "- setup environment\n",
        "- install conda-eda, GF180MCU PDK and EDA software\n",
        "- install and patch helper software"
      ]
    },
    {
      "cell_type": "code",
      "execution_count": null,
      "metadata": {
        "id": "9cLJ4l_6DYq6"
      },
      "outputs": [],
      "source": [
        "#@title Install a few packages required later-on { display-mode: \"form\" }\n",
        "!dpkg --configure -a\n",
        "!apt install python3-click"
      ]
    },
    {
      "cell_type": "code",
      "execution_count": null,
      "metadata": {
        "id": "oMNMTG3QGWvT"
      },
      "outputs": [],
      "source": [
        "#@title Install Anaconda environment {display-mode: \"form\"}\n",
        "CONDA_PREFIX = '/content/eda'\n",
        "%env CONDA_PREFIX = {CONDA_PREFIX}\n",
        "!echo 'Will install CONDA EDA to {CONDA_PREFIX}'\n",
        "!test -e Install.sh || wget -O Install.sh https://github.com/proppy/conda-eda/releases/download/v0.0-1445-gdbbed53/digital.gf180mcuc-0-Linux-x86_64.sh\n",
        "!test -d {CONDA_PREFIX} || bash Install.sh -b -p {CONDA_PREFIX}"
      ]
    },
    {
      "cell_type": "code",
      "execution_count": null,
      "metadata": {
        "id": "U9j3td-bem7j"
      },
      "outputs": [],
      "source": [
        "#@title Update conda packages {display-mode: \"form\"}\n",
        "!{CONDA_PREFIX}/bin/conda update --yes --all"
      ]
    },
    {
      "cell_type": "code",
      "execution_count": null,
      "metadata": {
        "id": "fiYgeYzY1xRo"
      },
      "outputs": [],
      "source": [
        "#@title Install EDA software { display-mode: \"form\" }\n",
        "\n",
        "\n",
        "# use hard-coded packages as version resolution does not work as expected\n",
        "for pkg in [\n",
        "    'https://anaconda.org/LiteX-Hub/openroad/2.0_8931_g74ada9e7c/download/linux-64/openroad-2.0_8931_g74ada9e7c-20230606_125334.tar.bz2',\n",
        "    'https://anaconda.org/LiteX-Hub/magic/8.3.409_0_gc8a2d06/download/linux-64/magic-8.3.409_0_gc8a2d06-20230606_125334.tar.bz2',\n",
        "    'https://anaconda.org/LiteX-Hub/open_pdks.gf180mcuc/1.0.421_0_gb662727/download/noarch/open_pdks.gf180mcuc-1.0.421_0_gb662727-20230606_125334.tar.bz2'\n",
        "]:\n",
        "  print(\"Installing \" + pkg)\n",
        "  !{CONDA_PREFIX}/bin/conda install --yes {pkg}"
      ]
    },
    {
      "cell_type": "code",
      "execution_count": null,
      "metadata": {
        "id": "LtWVqndILGyg"
      },
      "outputs": [],
      "source": [
        "#@title Install klayout module to colab env { display-mode: \"form\" }\n",
        "# Use colab's version of python as conda/openlane may use different python version\n",
        "from platform import python_version_tuple\n",
        "pversion = python_version_tuple()\n",
        "!/usr/bin/python{pversion[0]+'.'+pversion[1]} -m pip install --upgrade --verbose --force-reinstall klayout"
      ]
    },
    {
      "cell_type": "code",
      "execution_count": 6,
      "metadata": {
        "id": "-x3XVUzvyVVk"
      },
      "outputs": [],
      "source": [
        "#@title Define function to directly display GDS { display-mode: \"form\"}\n",
        "import pathlib\n",
        "import klayout.db\n",
        "import klayout.lay\n",
        "import IPython.display\n",
        "import os\n",
        "import re\n",
        "\n",
        "def display_gds_file(in_gds, zoom=None):\n",
        "  lv = klayout.lay.LayoutView()\n",
        "  lv.load_layer_props(os.environ.get('PDK_ROOT')+'/gf180mcuC/libs.tech/klayout/tech/gf180mcu.lyp')\n",
        "  lv.load_layout(str(in_gds))\n",
        "  lv.max_hier()\n",
        "  via_layer_re = re.compile('^(Metal|Via)\\d+$') # Only Metal* and Via* are visible\n",
        "  itr = lv.begin_layers()\n",
        "  while not itr.at_end():\n",
        "    lp = itr.current()\n",
        "    lp.visible = via_layer_re.match(lp.source_name)\n",
        "    itr.next()\n",
        "  #lv.set_config(\"background-color\", \"#FFFFFF\")\n",
        "  if zoom:\n",
        "    lv.zoom_box(klayout.db.DBox(zoom[0], zoom[1], zoom[2], zoom[3]))\n",
        "  lv.timer()\n",
        "  pixels = lv.get_pixels_with_options(5000, 5000)\n",
        "  IPython.display.clear_output(wait=True)\n",
        "  return IPython.display.Image(pixels.to_png_data(), width=1500, height=1500)\n"
      ]
    },
    {
      "cell_type": "code",
      "execution_count": null,
      "metadata": {
        "id": "Bi_tQkrpK847"
      },
      "outputs": [],
      "source": [
        "#@title Setup remaining variables { display-mode: 'form'}\n",
        "%env CONDA_PREFIX = {CONDA_PREFIX}\n",
        "import os\n",
        "%env PATH = {CONDA_PREFIX + '/bin:' + os.getenv('PATH')}\n",
        "%env PDK_ROOT = {CONDA_PREFIX + '/share/pdk'}\n",
        "%env PDK = gf180mcuC\n",
        "%env IO_LIB_PATH = {CONDA_PREFIX + '/share/pdk/gf180mcuC/libs.ref/gf180mcu_fd_io'}\n",
        "%env SRAM_LIB_PATH = {CONDA_PREFIX + '/share/pdk/gf180mcuC/libs.ref/gf180mcu_fd_ip_sram'}\n",
        "!echo $PYTHONPATH"
      ]
    },
    {
      "cell_type": "code",
      "execution_count": null,
      "metadata": {
        "id": "-uviimUD5MHb"
      },
      "outputs": [],
      "source": [
        "#@title Create patch file for GF180MCU IO IP { display-mode: \"form\" }\n",
        "#!wget https://raw.githubusercontent.com/chaufe/testcases/main/patches/gf180mcu_fd_io.lef.patch\n",
        "%%writefile \"gf180mcu_fd_io.lef.patch\"\n",
        "--- eda/share/pdk/gf180mcuC/libs.ref/gf180mcu_fd_io/lef/gf180mcu_fd_io.lef\t2023-02-13 13:43:43.000000000 +0100\n",
        "+++ eda/share/pdk/gf180mcuC/libs.ref/gf180mcu_fd_io/lef/gf180mcu_fd_io.lef\t2023-03-30 10:19:34.792862000 +0200\n",
        "@@ -3,6 +3,20 @@\n",
        "   DIVIDERCHAR \"/\" ;\n",
        "   BUSBITCHARS \"[]\" ;\n",
        "+\n",
        "+SITE GF_IO_Site\n",
        "+  SYMMETRY X Y ;\n",
        "+  CLASS PAD ;\n",
        "+  SIZE 1 BY 350 ;\n",
        "+END GF_IO_Site\n",
        "+\n",
        "+SITE GF_COR_Site\n",
        "+  SYMMETRY X Y ;\n",
        "+  CLASS PAD ;\n",
        "+  SIZE 355 BY 355 ;\n",
        "+END GF_COR_Site\n",
        "+\n",
        "+\n",
        " MACRO gf180mcu_fd_io__asig_5p0\n",
        "-  CLASS PAD INOUT ;\n",
        "+  CLASS PAD AREAIO ;\n",
        "   FOREIGN gf180mcu_fd_io__asig_5p0 ;\n",
        "   ORIGIN 0.000 0.000 ;\n",
        "@@ -815,5 +829,5 @@\n",
        "\n",
        " MACRO gf180mcu_fd_io__bi_24t\n",
        "-  CLASS PAD INOUT ;\n",
        "+  CLASS PAD AREAIO ;\n",
        "   FOREIGN gf180mcu_fd_io__bi_24t ;\n",
        "   ORIGIN 0.000 0.000 ;\n",
        "@@ -1669,5 +1683,5 @@\n",
        "\n",
        " MACRO gf180mcu_fd_io__bi_t\n",
        "-  CLASS PAD INOUT ;\n",
        "+  CLASS PAD AREAIO ;\n",
        "   FOREIGN gf180mcu_fd_io__bi_t ;\n",
        "   ORIGIN 0.000 0.000 ;\n",
        "@@ -3807,5 +3821,5 @@\n",
        "\n",
        " MACRO gf180mcu_fd_io__dvdd\n",
        "-  CLASS PAD POWER ;\n",
        "+  CLASS PAD AREAIO ;\n",
        "   FOREIGN gf180mcu_fd_io__dvdd ;\n",
        "   ORIGIN 0.000 0.000 ;\n",
        "@@ -4600,5 +4614,5 @@\n",
        "\n",
        " MACRO gf180mcu_fd_io__dvss\n",
        "-  CLASS PAD POWER ;\n",
        "+  CLASS PAD AREAIO ;\n",
        "   FOREIGN gf180mcu_fd_io__dvss ;\n",
        "   ORIGIN 0.000 0.000 ;\n",
        "@@ -7609,5 +7623,5 @@\n",
        "\n",
        " MACRO gf180mcu_fd_io__in_c\n",
        "-  CLASS PAD INPUT ;\n",
        "+  CLASS PAD AREAIO ;\n",
        "   FOREIGN gf180mcu_fd_io__in_c ;\n",
        "   ORIGIN 0.000 0.000 ;\n",
        "@@ -8416,5 +8430,5 @@\n",
        "\n",
        " MACRO gf180mcu_fd_io__in_s\n",
        "-  CLASS PAD INPUT ;\n",
        "+  CLASS PAD AREAIO ;\n",
        "   FOREIGN gf180mcu_fd_io__in_s ;\n",
        "   ORIGIN 0.000 0.000 ;\n"
      ]
    },
    {
      "cell_type": "code",
      "execution_count": null,
      "metadata": {
        "id": "vzAbSUtQck-x"
      },
      "outputs": [],
      "source": [
        "#@title Patch GF180MCU IP { display-mode: \"form\" }\n",
        "!patch -p0 < gf180mcu_fd_io.lef.patch"
      ]
    },
    {
      "cell_type": "markdown",
      "metadata": {
        "id": "DObFBwGPYcUw"
      },
      "source": [
        "### Create Testcase"
      ]
    },
    {
      "cell_type": "code",
      "execution_count": null,
      "metadata": {
        "id": "iT_0ekwPQNG4"
      },
      "outputs": [],
      "source": [
        "#@title Write testcase RTL { display-mode: \"form\" }\n",
        "%%writefile \"testcase.v\"\n",
        "module testcase (input clk,\n",
        "                 input din,\n",
        "                 input rst,\n",
        "                 output wire dout);\n",
        "\n",
        "   wire clk_int;\n",
        "   wire din_int;\n",
        "   wire rst_int;\n",
        "   wire dout_int;\n",
        "\n",
        "\n",
        "   // pads\n",
        "   (* keep *) gf180mcu_fd_io__bi_t pad_dout(\n",
        "                                            .PU(1'b0), .PD(1'b0),\n",
        "                                            .OE(1'b1), .IE(1'b0),\n",
        "                                            .PDRV0(1'b0), .PDRV1(1'b0),\n",
        "                                            .CS(1'b0), .SL(1'b0),\n",
        "                                            .PAD(dout),\n",
        "                                            .A(dout_int),\n",
        "                                            .Y()\n",
        "                                            );\n",
        "\n",
        "   (* keep *) gf180mcu_fd_io__in_s pad_clk(\n",
        "                                           .PU(1'b0), .PD(1'b0),\n",
        "                                           .PAD(clk),\n",
        "                                           .Y(clk_int)\n",
        "                                           );\n",
        "\n",
        "   (* keep *) gf180mcu_fd_io__in_s pad_din(\n",
        "                                           .PU(1'b0), .PD(1'b0),\n",
        "                                           .PAD(din),\n",
        "                                           .Y(din_int)\n",
        "                                           );\n",
        "\n",
        "   (* keep *) gf180mcu_fd_io__in_s pad_rst(\n",
        "                                           .PU(1'b0), .PD(1'b0),\n",
        "                                           .PAD(rst),\n",
        "                                           .Y(rst_int)\n",
        "                                           );\n",
        "\n",
        "  // core-dump only occurs if macro placed in core area -> use SRAM\n",
        "  wire [7:0] sram_q;\n",
        "  (* keep *) gf180mcu_fd_ip_sram__sram512x8m8wm1 sram_i (\n",
        "        .CLK (clk_int),\n",
        "        .CEN (rst_int),\n",
        "        .GWEN (rst_int),\n",
        "        .WEN ({8{rst_int}}),\n",
        "        .A ({9{din_d}}),\n",
        "        .D ({8{din_d}}),\n",
        "        .Q (sram_q),\n",
        "  );\n",
        "\n",
        "  reg din_d;\n",
        "  reg din_d_xor;\n",
        "\n",
        "    always @(posedge clk_int)\n",
        "      if (rst_int) begin\n",
        "        din_d <= 1'b0;\n",
        "        din_d_xor <= 1'b0;\n",
        "      end else begin\n",
        "        din_d <= {din_d, din_int};\n",
        "        din_d_xor <= ^{din_d,sram_q};\n",
        "      end\n",
        "\n",
        "  assign dout_int = din_d_xor;\n",
        "\n",
        "endmodule\n"
      ]
    },
    {
      "cell_type": "code",
      "execution_count": null,
      "metadata": {
        "id": "Blqb1dPLR-CF"
      },
      "outputs": [],
      "source": [
        "#@title Write config.tcl to control OpenLANE { display-mode: \"form\" }\n",
        "%%writefile \"config.tcl\"\n",
        "\n",
        "set ::env(DESIGN_NAME) \"testcase\"\n",
        "\n",
        "set ::env(VERILOG_FILES) [list \"testcase.v\" ]\n",
        "\n",
        "set ::env(MACRO_PLACEMENT_CFG) \"macro.cfg\"\n",
        "\n",
        "set ::env(EXTRA_LIBS) [list \\\n",
        "  $::env(IO_LIB_PATH)/liberty/gf180mcu_fd_io__tt_025C_5v00.lib \\\n",
        "  $::env(IO_LIB_PATH)/liberty/gf180mcu_fd_io__ff_n40C_5v50.lib \\\n",
        "  $::env(IO_LIB_PATH)/liberty/gf180mcu_fd_io__ff_125C_5v50.lib \\\n",
        "  $::env(IO_LIB_PATH)/liberty/gf180mcu_fd_io__ss_125C_4v50.lib \\\n",
        "  $::env(SRAM_LIB_PATH)/liberty/gf180mcu_fd_ip_sram__sram512x8m8wm1__tt_025C_5v00.lib \\\n",
        "  $::env(SRAM_LIB_PATH)/liberty/gf180mcu_fd_ip_sram__sram512x8m8wm1__ff_n40C_5v50.lib \\\n",
        "  $::env(SRAM_LIB_PATH)/liberty/gf180mcu_fd_ip_sram__sram512x8m8wm1__ff_125C_5v50.lib \\\n",
        "  $::env(SRAM_LIB_PATH)/liberty/gf180mcu_fd_ip_sram__sram512x8m8wm1__ss_125C_4v50.lib \\\n",
        "]\n",
        "\n",
        "set ::env(EXTRA_LEFS) [list \\\n",
        "  $::env(SRAM_LIB_PATH)/lef/gf180mcu_fd_ip_sram__sram512x8m8wm1.lef \\\n",
        "]\n",
        "\n",
        "#set ::env(BASE_SDC_FILE) \"testcase.sdc\"\n",
        "\n",
        "set ::env(EXTRA_GDS_FILES) [list \\\n",
        "  $::env(IO_LIB_PATH)/gds/gf180mcu_fd_io.gds \\\n",
        "]\n",
        "\n",
        "set ::env(DESIGN_IS_CORE) 1\n",
        "set ::env(FP_PDN_CORE_RING) 1\n",
        "\n",
        "set ::env(GRT_ALLOW_CONGESTION) 1\n",
        "set ::env(DRT_OPT_ITERS) 10\n",
        "\n",
        "set ::env(DIODE_INSERTION_STRATEGY) 0\n",
        "\n",
        "set ::env(USE_GPIO_PADS) 1\n",
        "set ::env(GPIO_PADS_LEF) $::env(IO_LIB_PATH)/lef/gf180mcu_fd_io.lef\n",
        "unset ::env(GPIO_PADS_VERILOG)\n",
        "set ::env(FP_IO_MODE) 1\n",
        "\n",
        "set ::env(FP_PDN_UPPER_LAYER) Metal5\n",
        "set ::env(FP_PDN_LOWER_LAYER) Metal4\n",
        "set ::env(FP_PDN_RAILS_LAYER) Metal1\n",
        "set ::env(FP_PDN_CORE_RING_VWIDTH) 5.0\n",
        "set ::env(FP_PDN_CORE_RING_HWIDTH) 5.0\n",
        "set ::env(FP_PDN_CORE_RING_VSPACING) 1.0\n",
        "set ::env(FP_PDN_CORE_RING_HSPACING) 1.0\n",
        "\n",
        "set ::env(SYNTH_NO_FLAT) 0\n",
        "set ::env(SYNTH_SHARE_RESOURCES) 1\n",
        "\n",
        "set ::env(CLOCK_TREE_SYNTH) 1\n",
        "set ::env(CLOCK_PORT) \"clk\"\n",
        "set ::env(CLOCK_PERIOD) 100\n",
        "\n",
        "set ::env(FP_SIZING) absolute\n",
        "set ::env(DIE_AREA) \"0 0 1460 1460\"\n",
        "set ::env(CORE_AREA) \"370 370 1090 1090\"\n",
        "\n",
        "set ::env(PL_TARGET_DENSITY) 0.65\n",
        "\n",
        "# MAGIC GDS-out controls\n",
        "## ... try GDS with hierarchy\n",
        "set ::env(MAGIC_DISABLE_HIER_GDS) 0\n",
        "set ::env(MAGIC_GENERATE_LEF) 0\n",
        "set ::env(MAGIC_GENERATE_MAGLEF) 0"
      ]
    },
    {
      "cell_type": "code",
      "execution_count": null,
      "metadata": {
        "id": "24dizEPFaIft"
      },
      "outputs": [],
      "source": [
        "#@title Create macro config for dummy SRAM { display-mode: \"form\" }\n",
        "%%writefile 'macro.cfg'\n",
        "sram_i  370 370 FS ;"
      ]
    },
    {
      "cell_type": "code",
      "execution_count": null,
      "metadata": {
        "id": "u4cTtAqsTjKL"
      },
      "outputs": [],
      "source": [
        "#@title Use updated ioplace script to create pad ring { display-mode: \"form\" }\n",
        "%%writefile \"eda/share/openlane/scripts/openroad/ioplacer.tcl\"\n",
        "# Copyright 2020-2022 Efabless Corporation\n",
        "#\n",
        "# Licensed under the Apache License, Version 2.0 (the \"License\");\n",
        "# you may not use this file except in compliance with the License.\n",
        "# You may obtain a copy of the License at\n",
        "#\n",
        "#      http://www.apache.org/licenses/LICENSE-2.0\n",
        "#\n",
        "# Unless required by applicable law or agreed to in writing, software\n",
        "# distributed under the License is distributed on an \"AS IS\" BASIS,\n",
        "# WITHOUT WARRANTIES OR CONDITIONS OF ANY KIND, either express or implied.\n",
        "# See the License for the specific language governing permissions and\n",
        "# limitations under the License.\n",
        "source $::env(SCRIPTS_DIR)/openroad/common/io.tcl\n",
        "read\n",
        "\n",
        "if { [info exists ::env(CONTEXTUAL_IO_FLAG)] } {\n",
        "\tread_lef $::env(placement_tmpfiles)/top_level.lef\n",
        "}\n",
        "\n",
        "if {$::env(FP_IO_HLENGTH) != \"\" && $::env(FP_IO_HLENGTH) != \"\"} {\n",
        "\tset_pin_length -hor_length $::env(FP_IO_HLENGTH) \\\n",
        "\t\t-ver_length $::env(FP_IO_VLENGTH)\n",
        "}\n",
        "\n",
        "if {$::env(FP_IO_HEXTEND) != \"0\" && $::env(FP_IO_VEXTEND) != \"0\"} {\n",
        "\tset_pin_length_extension -hor_extension $::env(FP_IO_HEXTEND) \\\n",
        "\t\t-ver_extension $::env(FP_IO_VEXTEND)\n",
        "}\n",
        "\n",
        "if {$::env(FP_IO_VTHICKNESS_MULT) != \"\" && $::env(FP_IO_HTHICKNESS_MULT) != \"\"} {\n",
        "\tset_pin_thick_multiplier -hor_multiplier $::env(FP_IO_HTHICKNESS_MULT) \\\n",
        "\t\t-ver_multiplier $::env(FP_IO_VTHICKNESS_MULT)\n",
        "}\n",
        "\n",
        "set arg_list [list]\n",
        "if { $::env(FP_IO_MODE) == 1 } {\n",
        "\tlappend arg_list -random\n",
        "}\n",
        "\n",
        "if { $::env(FP_IO_MIN_DISTANCE) != \"\" } {\n",
        "\tlappend arg_list -min_distance $::env(FP_IO_MIN_DISTANCE)\n",
        "}\n",
        "\n",
        "set HMETAL $::env(FP_IO_HLAYER)\n",
        "set VMETAL $::env(FP_IO_VLAYER)\n",
        "\n",
        "place_pins {*}$arg_list \\\n",
        "\t-random_seed 42 \\\n",
        "\t-hor_layers $HMETAL \\\n",
        "\t-ver_layers $VMETAL\n",
        "\n",
        "# create io-ring\n",
        "make_io_sites -horizontal_site GF_IO_Site -vertical_site GF_IO_Site -corner_site GF_COR_Site -offset 0\n",
        "place_pad -master gf180mcu_fd_io__in_s   -row IO_NORTH -location  400.0 pad_dout\n",
        "place_pad -master gf180mcu_fd_io__in_s   -row IO_NORTH -location  700.0 pad_clk\n",
        "place_pad -master gf180mcu_fd_io__dvss   -row IO_NORTH -location 1000.0 pad_dvss1\n",
        "\n",
        "place_pad -master gf180mcu_fd_io__bi_24t -row IO_EAST  -location  400.0 pad_rst\n",
        "place_pad -master gf180mcu_fd_io__in_s   -row IO_EAST  -location  700.0 pad_din\n",
        "place_pad -master gf180mcu_fd_io__dvdd   -row IO_EAST  -location 1000.0 pad_dvdd1\n",
        "\n",
        "place_pad -master gf180mcu_fd_io__dvdd   -row IO_WEST  -location  400.0 pad_dvdd2\n",
        "place_pad -master gf180mcu_fd_io__dvss   -row IO_WEST  -location  700.0 pad_dvss2\n",
        "place_pad -master gf180mcu_fd_io__dvdd   -row IO_WEST  -location 1000.0 pad_dvdd3\n",
        "\n",
        "place_pad -master gf180mcu_fd_io__dvss   -row IO_SOUTH -location  400.0 pad_dvss3\n",
        "place_pad -master gf180mcu_fd_io__dvdd   -row IO_SOUTH -location  700.0 pad_dvdd4\n",
        "place_pad -master gf180mcu_fd_io__dvss   -row IO_SOUTH -location 1000.0 pad_dvss4\n",
        "\n",
        "place_corners gf180mcu_fd_io__cor\n",
        "foreach io_row { IO_EAST IO_WEST IO_SOUTH IO_NORTH } {\n",
        "    place_io_fill -row $io_row gf180mcu_fd_io__fill10 gf180mcu_fd_io__fill5 gf180mcu_fd_io__fill1\n",
        "}\n",
        "\n",
        "connect_by_abutment\n",
        "\n",
        "# work-around for pin-access error message\n",
        "\n",
        "# get db/chip/block\n",
        "set db [ord::get_db]\n",
        "set chip [$db getChip]\n",
        "set block [$chip getBlock]\n",
        "set dbu_m [$block getDbUnitsPerMicron]\n",
        "\n",
        "# mark all nets connected to pins (terminals) as special-net so OpenROAD will not try to route it\n",
        "foreach bterm [$block getBTerms] {\n",
        "  if {$bterm eq \"NULL\"} {\n",
        "      error \"Could not get terminals of block\"\n",
        "  } else {\n",
        "    set net [$bterm getNet]\n",
        "    if {$net eq \"NULL\"} {\n",
        "      error \"Block terminal [$bterm getName] returned NULL net\"\n",
        "    } else {\n",
        "      puts \"Setting net [$net getName] (connected to block terminal [$bterm getName]) to special-net\"\n",
        "      $net setSpecial\n",
        "    }\n",
        "  }\n",
        "}\n",
        "\n",
        "if {1} {\n",
        "  make_net rst_int_buffered\n",
        "  make_inst rst_int_buf gf180mcu_fd_sc_mcu7t5v0__buf_4\n",
        "  foreach pin [get_pins -of_objects [get_nets rst_int] -filter \"direction == input\"] {\n",
        "    puts \"Reconnecting pin [get_full_name $pin] [get_property $pin direction]\"\n",
        "    disconnect_pin rst_int $pin\n",
        "    connect_pin rst_int_buffered $pin\n",
        "  }\n",
        "  connect_pin rst_int_buffered rst_int_buf/Z\n",
        "  connect_pin scan_enable_1 rst_int_buf/I\n",
        "  set_dont_touch [get_net rst_int]\n",
        "}\n",
        "\n",
        "write\n"
      ]
    },
    {
      "cell_type": "code",
      "execution_count": null,
      "metadata": {
        "id": "Z21_ONfXS1v4"
      },
      "outputs": [],
      "source": [
        "#@title Run OpenLANE to create DEF for test case { display-mode: \"form\" }\n",
        "%env PYTHONPATH = /usr/lib/python310.zip;/usr/lib/python3.10:/usr/lib/python3.10/lib-dynload:/usr/local/lib/python3.10/dist-packages:/usr/lib/python3/dist-packages:/usr/local/lib/python3.10/dist-packages/IPython/extensions\n",
        "!flow.tcl -design . -to placement"
      ]
    },
    {
      "cell_type": "code",
      "execution_count": null,
      "metadata": {
        "id": "tTLMf7hENM78"
      },
      "outputs": [],
      "source": [
        "#@title Magic script to convert DEF to GDS (does trigger buffer overlow) { display-mode: \"form\" }\n",
        "%%writefile def2gds.buffer_overflow.mag\n",
        "lef read $::env(CONDA_PREFIX)/share/pdk/gf180mcuC/libs.ref/gf180mcu_fd_sc_mcu7t5v0/techlef/gf180mcu_fd_sc_mcu7t5v0__nom.tlef\n",
        "\n",
        "addpath $::env(CONDA_PREFIX)/share/pdk/gf180mcuC/libs.ref/gf180mcu_fd_sc_mcu7t5v0/mag/\n",
        "\n",
        "addpath $::env(SRAM_LIB_PATH)/mag/\n",
        "#gds read $::env(SRAM_LIB_PATH)/gds/gf180mcu_fd_ip_sram__sram512x8m8wm1.gds\n",
        "\n",
        "addpath $::env(CONDA_PREFIX)/share/pdk/gf180mcuC/libs.ref/gf180mcu_fd_io/mag/\n",
        "\n",
        "def read $::env(IN_DEF)\n",
        "gds write $::env(IN_DEF).buffer_overflow.gds\n"
      ]
    },
    {
      "cell_type": "code",
      "execution_count": null,
      "metadata": {
        "id": "caqVUHujp34C"
      },
      "outputs": [],
      "source": [
        "#@title Magic script to convert DEF to GDS (does NOT trigger buffer overlow) { display-mode: \"form\" }\n",
        "%%writefile def2gds.no_buffer_overflow.mag\n",
        "lef read $::env(CONDA_PREFIX)/share/pdk/gf180mcuC/libs.ref/gf180mcu_fd_sc_mcu7t5v0/techlef/gf180mcu_fd_sc_mcu7t5v0__nom.tlef\n",
        "\n",
        "addpath $::env(CONDA_PREFIX)/share/pdk/gf180mcuC/libs.ref/gf180mcu_fd_sc_mcu7t5v0/mag/\n",
        "\n",
        "#addpath $::env(SRAM_LIB_PATH)/mag/\n",
        "gds read $::env(SRAM_LIB_PATH)/gds/gf180mcu_fd_ip_sram__sram512x8m8wm1.gds\n",
        "\n",
        "addpath $::env(CONDA_PREFIX)/share/pdk/gf180mcuC/libs.ref/gf180mcu_fd_io/mag/\n",
        "\n",
        "def read $::env(IN_DEF)\n",
        "gds write $::env(IN_DEF).no_buffer_overflow.gds\n"
      ]
    },
    {
      "cell_type": "markdown",
      "metadata": {
        "id": "1H3q18x_Ykhp"
      },
      "source": [
        "### Run Testcase"
      ]
    },
    {
      "cell_type": "code",
      "execution_count": null,
      "metadata": {
        "id": "XAJYmfH9NbI6"
      },
      "outputs": [],
      "source": [
        "#@title Merge GDS (trigger buffer overflow) { display-mode: \"form\" }\n",
        "import pathlib\n",
        "in_def = sorted(pathlib.Path('/content/runs').glob(f'*/results/placement/*.def'))[-1].resolve()\n",
        "!IN_DEF={in_def} magic -dnull -noconsole -rcfile {CONDA_PREFIX}/share/pdk/gf180mcuC/libs.tech/magic/gf180mcuC.magicrc < /content/def2gds.buffer_overflow.mag |& tee magic.buffer_overflow.log\n",
        "!gzip -fv9 {in_def}.buffer_overflow.gds\n",
        "!ln -sf {in_def}.buffer_overflow.gds.gz /content/\n"
      ]
    },
    {
      "cell_type": "code",
      "execution_count": null,
      "metadata": {
        "id": "bWZzJwe9qf9K"
      },
      "outputs": [],
      "source": [
        "#@title Merge GDS (NO buffer overflow) { display-mode: \"form\" }\n",
        "import pathlib\n",
        "in_def = sorted(pathlib.Path('/content/runs').glob(f'*/results/placement/*.def'))[-1].resolve()\n",
        "!IN_DEF={in_def} magic -dnull -noconsole -rcfile {CONDA_PREFIX}/share/pdk/gf180mcuC/libs.tech/magic/gf180mcuC.magicrc < /content/def2gds.no_buffer_overflow.mag | tee magic.no_buffer_overflow.log\n",
        "!gzip -fv9 {in_def}.no_buffer_overflow.gds\n",
        "!ln -sf {in_def}.no_buffer_overflow.gds.gz /content/\n"
      ]
    },
    {
      "cell_type": "code",
      "execution_count": null,
      "metadata": {
        "id": "1fIOpwulR6UH"
      },
      "outputs": [],
      "source": [
        "#@title Preview GDS using klayout {display-mode: \"form\"}\n",
        "display_gds_file('/content/testcase.def.no_buffer_overflow.gds.gz')"
      ]
    }
  ],
  "metadata": {
    "colab": {
      "provenance": [],
      "include_colab_link": true
    },
    "kernelspec": {
      "display_name": "Python 3",
      "name": "python3"
    },
    "language_info": {
      "name": "python"
    }
  },
  "nbformat": 4,
  "nbformat_minor": 0
}